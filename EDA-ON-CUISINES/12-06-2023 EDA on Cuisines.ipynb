{
 "cells": [
  {
   "cell_type": "markdown",
   "id": "9db07aa8",
   "metadata": {},
   "source": [
    " "
   ]
  },
  {
   "cell_type": "markdown",
   "id": "861a6f88",
   "metadata": {},
   "source": [
    "## <center><u>EDA ON CUISINES DATASET"
   ]
  },
  {
   "cell_type": "code",
   "execution_count": 1,
   "id": "8b03a523",
   "metadata": {},
   "outputs": [],
   "source": [
    "import pandas as pd\n",
    "import numpy as np\n",
    "import matplotlib.pyplot as plt\n",
    "import seaborn as sns\n",
    "import warnings\n",
    "warnings.filterwarnings('ignore')"
   ]
  },
  {
   "cell_type": "code",
   "execution_count": 2,
   "id": "08621f70",
   "metadata": {},
   "outputs": [
    {
     "data": {
      "text/html": [
       "<div>\n",
       "<style scoped>\n",
       "    .dataframe tbody tr th:only-of-type {\n",
       "        vertical-align: middle;\n",
       "    }\n",
       "\n",
       "    .dataframe tbody tr th {\n",
       "        vertical-align: top;\n",
       "    }\n",
       "\n",
       "    .dataframe thead th {\n",
       "        text-align: right;\n",
       "    }\n",
       "</style>\n",
       "<table border=\"1\" class=\"dataframe\">\n",
       "  <thead>\n",
       "    <tr style=\"text-align: right;\">\n",
       "      <th></th>\n",
       "      <th>User ID</th>\n",
       "      <th>Area code</th>\n",
       "      <th>Location</th>\n",
       "      <th>Gender</th>\n",
       "      <th>YOB</th>\n",
       "      <th>Marital Status</th>\n",
       "      <th>Activity</th>\n",
       "      <th>Budget</th>\n",
       "      <th>Cuisines</th>\n",
       "      <th>Alcohol</th>\n",
       "      <th>Smoker</th>\n",
       "      <th>Food Rating</th>\n",
       "      <th>Service Rating</th>\n",
       "      <th>Overall Rating</th>\n",
       "      <th>Often A S</th>\n",
       "    </tr>\n",
       "  </thead>\n",
       "  <tbody>\n",
       "    <tr>\n",
       "      <th>0</th>\n",
       "      <td>1</td>\n",
       "      <td>153</td>\n",
       "      <td>Upper East Side,NY</td>\n",
       "      <td>Female</td>\n",
       "      <td>2006</td>\n",
       "      <td>Single</td>\n",
       "      <td>Professional</td>\n",
       "      <td>3</td>\n",
       "      <td>Japanese</td>\n",
       "      <td>Never</td>\n",
       "      <td>Never</td>\n",
       "      <td>5</td>\n",
       "      <td>4</td>\n",
       "      <td>4.5</td>\n",
       "      <td>No</td>\n",
       "    </tr>\n",
       "    <tr>\n",
       "      <th>1</th>\n",
       "      <td>2</td>\n",
       "      <td>123</td>\n",
       "      <td>St. George,NY</td>\n",
       "      <td>Female</td>\n",
       "      <td>1991</td>\n",
       "      <td>Married</td>\n",
       "      <td>Student</td>\n",
       "      <td>3</td>\n",
       "      <td>Indian</td>\n",
       "      <td>Never</td>\n",
       "      <td>Socially</td>\n",
       "      <td>1</td>\n",
       "      <td>1</td>\n",
       "      <td>1.0</td>\n",
       "      <td>No</td>\n",
       "    </tr>\n",
       "    <tr>\n",
       "      <th>2</th>\n",
       "      <td>3</td>\n",
       "      <td>122</td>\n",
       "      <td>Upper West Side,NY</td>\n",
       "      <td>Male</td>\n",
       "      <td>1977</td>\n",
       "      <td>Single</td>\n",
       "      <td>Student</td>\n",
       "      <td>5</td>\n",
       "      <td>Seafood</td>\n",
       "      <td>Often</td>\n",
       "      <td>Often</td>\n",
       "      <td>5</td>\n",
       "      <td>5</td>\n",
       "      <td>5.0</td>\n",
       "      <td>Yes</td>\n",
       "    </tr>\n",
       "    <tr>\n",
       "      <th>3</th>\n",
       "      <td>4</td>\n",
       "      <td>153</td>\n",
       "      <td>Upper East Side,NY</td>\n",
       "      <td>Female</td>\n",
       "      <td>1956</td>\n",
       "      <td>Married</td>\n",
       "      <td>Professional</td>\n",
       "      <td>5</td>\n",
       "      <td>Japanese</td>\n",
       "      <td>Never</td>\n",
       "      <td>Socially</td>\n",
       "      <td>3</td>\n",
       "      <td>1</td>\n",
       "      <td>2.0</td>\n",
       "      <td>No</td>\n",
       "    </tr>\n",
       "    <tr>\n",
       "      <th>4</th>\n",
       "      <td>5</td>\n",
       "      <td>129</td>\n",
       "      <td>Central Park,NY</td>\n",
       "      <td>Male</td>\n",
       "      <td>1997</td>\n",
       "      <td>Single</td>\n",
       "      <td>Student</td>\n",
       "      <td>4</td>\n",
       "      <td>Filipino</td>\n",
       "      <td>Socially</td>\n",
       "      <td>Never</td>\n",
       "      <td>2</td>\n",
       "      <td>4</td>\n",
       "      <td>3.0</td>\n",
       "      <td>No</td>\n",
       "    </tr>\n",
       "    <tr>\n",
       "      <th>...</th>\n",
       "      <td>...</td>\n",
       "      <td>...</td>\n",
       "      <td>...</td>\n",
       "      <td>...</td>\n",
       "      <td>...</td>\n",
       "      <td>...</td>\n",
       "      <td>...</td>\n",
       "      <td>...</td>\n",
       "      <td>...</td>\n",
       "      <td>...</td>\n",
       "      <td>...</td>\n",
       "      <td>...</td>\n",
       "      <td>...</td>\n",
       "      <td>...</td>\n",
       "      <td>...</td>\n",
       "    </tr>\n",
       "    <tr>\n",
       "      <th>195</th>\n",
       "      <td>196</td>\n",
       "      <td>175</td>\n",
       "      <td>St. George,NY</td>\n",
       "      <td>Female</td>\n",
       "      <td>1982</td>\n",
       "      <td>Single</td>\n",
       "      <td>Professional</td>\n",
       "      <td>4</td>\n",
       "      <td>French</td>\n",
       "      <td>Never</td>\n",
       "      <td>Socially</td>\n",
       "      <td>1</td>\n",
       "      <td>2</td>\n",
       "      <td>1.5</td>\n",
       "      <td>No</td>\n",
       "    </tr>\n",
       "    <tr>\n",
       "      <th>196</th>\n",
       "      <td>197</td>\n",
       "      <td>170</td>\n",
       "      <td>Upper West Side,NY</td>\n",
       "      <td>Female</td>\n",
       "      <td>2000</td>\n",
       "      <td>Married</td>\n",
       "      <td>Student</td>\n",
       "      <td>4</td>\n",
       "      <td>Chinese</td>\n",
       "      <td>Never</td>\n",
       "      <td>Often</td>\n",
       "      <td>1</td>\n",
       "      <td>2</td>\n",
       "      <td>1.5</td>\n",
       "      <td>No</td>\n",
       "    </tr>\n",
       "    <tr>\n",
       "      <th>197</th>\n",
       "      <td>198</td>\n",
       "      <td>160</td>\n",
       "      <td>St. George,NY</td>\n",
       "      <td>Female</td>\n",
       "      <td>2006</td>\n",
       "      <td>Single</td>\n",
       "      <td>Professional</td>\n",
       "      <td>5</td>\n",
       "      <td>Japanese</td>\n",
       "      <td>Never</td>\n",
       "      <td>Often</td>\n",
       "      <td>5</td>\n",
       "      <td>2</td>\n",
       "      <td>3.5</td>\n",
       "      <td>No</td>\n",
       "    </tr>\n",
       "    <tr>\n",
       "      <th>198</th>\n",
       "      <td>199</td>\n",
       "      <td>130</td>\n",
       "      <td>St. George,NY</td>\n",
       "      <td>Male</td>\n",
       "      <td>2002</td>\n",
       "      <td>Married</td>\n",
       "      <td>Student</td>\n",
       "      <td>3</td>\n",
       "      <td>Filipino</td>\n",
       "      <td>Never</td>\n",
       "      <td>Socially</td>\n",
       "      <td>3</td>\n",
       "      <td>2</td>\n",
       "      <td>2.5</td>\n",
       "      <td>No</td>\n",
       "    </tr>\n",
       "    <tr>\n",
       "      <th>199</th>\n",
       "      <td>200</td>\n",
       "      <td>140</td>\n",
       "      <td>Upper East Side,NY</td>\n",
       "      <td>Male</td>\n",
       "      <td>2005</td>\n",
       "      <td>Married</td>\n",
       "      <td>Student</td>\n",
       "      <td>4</td>\n",
       "      <td>French</td>\n",
       "      <td>Never</td>\n",
       "      <td>Never</td>\n",
       "      <td>3</td>\n",
       "      <td>2</td>\n",
       "      <td>2.5</td>\n",
       "      <td>No</td>\n",
       "    </tr>\n",
       "  </tbody>\n",
       "</table>\n",
       "<p>200 rows × 15 columns</p>\n",
       "</div>"
      ],
      "text/plain": [
       "     User ID  Area code            Location  Gender   YOB Marital Status  \\\n",
       "0          1        153  Upper East Side,NY  Female  2006         Single   \n",
       "1          2        123       St. George,NY  Female  1991        Married   \n",
       "2          3        122  Upper West Side,NY    Male  1977         Single   \n",
       "3          4        153  Upper East Side,NY  Female  1956        Married   \n",
       "4          5        129     Central Park,NY    Male  1997         Single   \n",
       "..       ...        ...                 ...     ...   ...            ...   \n",
       "195      196        175       St. George,NY  Female  1982         Single   \n",
       "196      197        170  Upper West Side,NY  Female  2000        Married   \n",
       "197      198        160       St. George,NY  Female  2006         Single   \n",
       "198      199        130       St. George,NY    Male  2002        Married   \n",
       "199      200        140  Upper East Side,NY    Male  2005        Married   \n",
       "\n",
       "         Activity  Budget  Cuisines  Alcohol     Smoker  Food Rating  \\\n",
       "0    Professional       3  Japanese     Never     Never            5   \n",
       "1         Student       3    Indian     Never  Socially            1   \n",
       "2         Student       5   Seafood     Often     Often            5   \n",
       "3    Professional       5  Japanese     Never  Socially            3   \n",
       "4         Student       4  Filipino  Socially     Never            2   \n",
       "..            ...     ...       ...       ...       ...          ...   \n",
       "195  Professional       4    French     Never  Socially            1   \n",
       "196       Student       4   Chinese     Never     Often            1   \n",
       "197  Professional       5  Japanese     Never     Often            5   \n",
       "198       Student       3  Filipino     Never  Socially            3   \n",
       "199       Student       4    French     Never     Never            3   \n",
       "\n",
       "     Service Rating  Overall Rating Often A S  \n",
       "0                 4             4.5        No  \n",
       "1                 1             1.0        No  \n",
       "2                 5             5.0       Yes  \n",
       "3                 1             2.0        No  \n",
       "4                 4             3.0        No  \n",
       "..              ...             ...       ...  \n",
       "195               2             1.5        No  \n",
       "196               2             1.5        No  \n",
       "197               2             3.5        No  \n",
       "198               2             2.5        No  \n",
       "199               2             2.5        No  \n",
       "\n",
       "[200 rows x 15 columns]"
      ]
     },
     "execution_count": 2,
     "metadata": {},
     "output_type": "execute_result"
    }
   ],
   "source": [
    "data=pd.read_csv('./Cuisine_rating.csv')\n",
    "data"
   ]
  },
  {
   "cell_type": "code",
   "execution_count": 3,
   "id": "a675866a",
   "metadata": {},
   "outputs": [
    {
     "data": {
      "text/html": [
       "<div>\n",
       "<style scoped>\n",
       "    .dataframe tbody tr th:only-of-type {\n",
       "        vertical-align: middle;\n",
       "    }\n",
       "\n",
       "    .dataframe tbody tr th {\n",
       "        vertical-align: top;\n",
       "    }\n",
       "\n",
       "    .dataframe thead th {\n",
       "        text-align: right;\n",
       "    }\n",
       "</style>\n",
       "<table border=\"1\" class=\"dataframe\">\n",
       "  <thead>\n",
       "    <tr style=\"text-align: right;\">\n",
       "      <th></th>\n",
       "      <th>count</th>\n",
       "      <th>mean</th>\n",
       "      <th>std</th>\n",
       "      <th>min</th>\n",
       "      <th>25%</th>\n",
       "      <th>50%</th>\n",
       "      <th>75%</th>\n",
       "      <th>max</th>\n",
       "    </tr>\n",
       "  </thead>\n",
       "  <tbody>\n",
       "    <tr>\n",
       "      <th>User ID</th>\n",
       "      <td>200.0</td>\n",
       "      <td>100.500</td>\n",
       "      <td>57.879185</td>\n",
       "      <td>1.0</td>\n",
       "      <td>50.75</td>\n",
       "      <td>100.5</td>\n",
       "      <td>150.25</td>\n",
       "      <td>200.0</td>\n",
       "    </tr>\n",
       "    <tr>\n",
       "      <th>Area code</th>\n",
       "      <td>200.0</td>\n",
       "      <td>141.060</td>\n",
       "      <td>26.130257</td>\n",
       "      <td>101.0</td>\n",
       "      <td>123.00</td>\n",
       "      <td>135.0</td>\n",
       "      <td>158.00</td>\n",
       "      <td>199.0</td>\n",
       "    </tr>\n",
       "    <tr>\n",
       "      <th>YOB</th>\n",
       "      <td>200.0</td>\n",
       "      <td>1984.830</td>\n",
       "      <td>16.809339</td>\n",
       "      <td>1955.0</td>\n",
       "      <td>1971.00</td>\n",
       "      <td>1987.0</td>\n",
       "      <td>2000.00</td>\n",
       "      <td>2009.0</td>\n",
       "    </tr>\n",
       "    <tr>\n",
       "      <th>Budget</th>\n",
       "      <td>200.0</td>\n",
       "      <td>3.815</td>\n",
       "      <td>1.056578</td>\n",
       "      <td>1.0</td>\n",
       "      <td>3.00</td>\n",
       "      <td>4.0</td>\n",
       "      <td>5.00</td>\n",
       "      <td>5.0</td>\n",
       "    </tr>\n",
       "    <tr>\n",
       "      <th>Food Rating</th>\n",
       "      <td>200.0</td>\n",
       "      <td>3.220</td>\n",
       "      <td>1.411226</td>\n",
       "      <td>1.0</td>\n",
       "      <td>2.00</td>\n",
       "      <td>3.0</td>\n",
       "      <td>5.00</td>\n",
       "      <td>5.0</td>\n",
       "    </tr>\n",
       "    <tr>\n",
       "      <th>Service Rating</th>\n",
       "      <td>200.0</td>\n",
       "      <td>3.230</td>\n",
       "      <td>1.526022</td>\n",
       "      <td>1.0</td>\n",
       "      <td>2.00</td>\n",
       "      <td>3.0</td>\n",
       "      <td>5.00</td>\n",
       "      <td>5.0</td>\n",
       "    </tr>\n",
       "    <tr>\n",
       "      <th>Overall Rating</th>\n",
       "      <td>200.0</td>\n",
       "      <td>3.225</td>\n",
       "      <td>1.079445</td>\n",
       "      <td>1.0</td>\n",
       "      <td>2.50</td>\n",
       "      <td>3.0</td>\n",
       "      <td>4.00</td>\n",
       "      <td>5.0</td>\n",
       "    </tr>\n",
       "  </tbody>\n",
       "</table>\n",
       "</div>"
      ],
      "text/plain": [
       "                count      mean        std     min      25%     50%      75%  \\\n",
       "User ID         200.0   100.500  57.879185     1.0    50.75   100.5   150.25   \n",
       "Area code       200.0   141.060  26.130257   101.0   123.00   135.0   158.00   \n",
       "YOB             200.0  1984.830  16.809339  1955.0  1971.00  1987.0  2000.00   \n",
       "Budget          200.0     3.815   1.056578     1.0     3.00     4.0     5.00   \n",
       "Food Rating     200.0     3.220   1.411226     1.0     2.00     3.0     5.00   \n",
       "Service Rating  200.0     3.230   1.526022     1.0     2.00     3.0     5.00   \n",
       "Overall Rating  200.0     3.225   1.079445     1.0     2.50     3.0     4.00   \n",
       "\n",
       "                   max  \n",
       "User ID          200.0  \n",
       "Area code        199.0  \n",
       "YOB             2009.0  \n",
       "Budget             5.0  \n",
       "Food Rating        5.0  \n",
       "Service Rating     5.0  \n",
       "Overall Rating     5.0  "
      ]
     },
     "execution_count": 3,
     "metadata": {},
     "output_type": "execute_result"
    }
   ],
   "source": [
    "data.describe().T"
   ]
  },
  {
   "cell_type": "code",
   "execution_count": 4,
   "id": "d69ad992",
   "metadata": {},
   "outputs": [
    {
     "name": "stdout",
     "output_type": "stream",
     "text": [
      "<class 'pandas.core.frame.DataFrame'>\n",
      "RangeIndex: 200 entries, 0 to 199\n",
      "Data columns (total 15 columns):\n",
      " #   Column          Non-Null Count  Dtype  \n",
      "---  ------          --------------  -----  \n",
      " 0   User ID         200 non-null    int64  \n",
      " 1   Area code       200 non-null    int64  \n",
      " 2   Location        200 non-null    object \n",
      " 3   Gender          200 non-null    object \n",
      " 4   YOB             200 non-null    int64  \n",
      " 5   Marital Status  200 non-null    object \n",
      " 6   Activity        200 non-null    object \n",
      " 7   Budget          200 non-null    int64  \n",
      " 8   Cuisines        200 non-null    object \n",
      " 9   Alcohol         200 non-null    object \n",
      " 10  Smoker          200 non-null    object \n",
      " 11  Food Rating     200 non-null    int64  \n",
      " 12  Service Rating  200 non-null    int64  \n",
      " 13  Overall Rating  200 non-null    float64\n",
      " 14  Often A S       200 non-null    object \n",
      "dtypes: float64(1), int64(6), object(8)\n",
      "memory usage: 23.6+ KB\n"
     ]
    }
   ],
   "source": [
    "data.info()"
   ]
  },
  {
   "cell_type": "code",
   "execution_count": 5,
   "id": "c78ac95a",
   "metadata": {},
   "outputs": [
    {
     "data": {
      "text/plain": [
       "Index(['User ID', 'Area code', 'Location', 'Gender', 'YOB', 'Marital Status',\n",
       "       'Activity', 'Budget', 'Cuisines', 'Alcohol ', 'Smoker', 'Food Rating',\n",
       "       'Service Rating', 'Overall Rating', 'Often A S'],\n",
       "      dtype='object')"
      ]
     },
     "execution_count": 5,
     "metadata": {},
     "output_type": "execute_result"
    }
   ],
   "source": [
    "data.columns"
   ]
  },
  {
   "cell_type": "code",
   "execution_count": 6,
   "id": "5f5c4b2a",
   "metadata": {},
   "outputs": [
    {
     "data": {
      "text/plain": [
       "User ID           0.0\n",
       "Area code         0.0\n",
       "Location          0.0\n",
       "Gender            0.0\n",
       "YOB               0.0\n",
       "Marital Status    0.0\n",
       "Activity          0.0\n",
       "Budget            0.0\n",
       "Cuisines          0.0\n",
       "Alcohol           0.0\n",
       "Smoker            0.0\n",
       "Food Rating       0.0\n",
       "Service Rating    0.0\n",
       "Overall Rating    0.0\n",
       "Often A S         0.0\n",
       "dtype: float64"
      ]
     },
     "execution_count": 6,
     "metadata": {},
     "output_type": "execute_result"
    }
   ],
   "source": [
    "data.isnull().mean()*100"
   ]
  },
  {
   "cell_type": "code",
   "execution_count": null,
   "id": "44c91f7a",
   "metadata": {},
   "outputs": [],
   "source": [
    "data.duplicated().sum()\n",
    "data.drop_duplicates(inplace=True)"
   ]
  },
  {
   "cell_type": "code",
   "execution_count": null,
   "id": "2d0e378c",
   "metadata": {},
   "outputs": [],
   "source": [
    "data.shape"
   ]
  },
  {
   "cell_type": "code",
   "execution_count": null,
   "id": "f5f255b2",
   "metadata": {},
   "outputs": [],
   "source": [
    "data.rename(columns={'Alcohol ':'Alcohol','Marital Status':'MaritalStatus','Food Rating':'FoodRating','Service Rating':'ServiceRating','Overall Rating':'OverallRating'},inplace=True)"
   ]
  },
  {
   "cell_type": "code",
   "execution_count": null,
   "id": "dcecbee4",
   "metadata": {},
   "outputs": [],
   "source": [
    "data.head()\n"
   ]
  },
  {
   "cell_type": "markdown",
   "id": "3751fe56",
   "metadata": {},
   "source": [
    "#### Adding a new column called 'Age' using YOB column"
   ]
  },
  {
   "cell_type": "code",
   "execution_count": null,
   "id": "82fa042f",
   "metadata": {
    "scrolled": true
   },
   "outputs": [],
   "source": [
    "data['Age']=[(2022-YOB)for YOB in data['YOB']]\n",
    "data.head()"
   ]
  },
  {
   "cell_type": "markdown",
   "id": "041f2f7a",
   "metadata": {},
   "source": [
    "#### Dropping User Id and YOB"
   ]
  },
  {
   "cell_type": "code",
   "execution_count": null,
   "id": "79019db2",
   "metadata": {
    "scrolled": true
   },
   "outputs": [],
   "source": [
    "data.drop(columns=['User ID','YOB'],inplace=True)\n",
    "data.head()"
   ]
  },
  {
   "cell_type": "markdown",
   "id": "505472cc",
   "metadata": {},
   "source": [
    "##### Dropping Area code"
   ]
  },
  {
   "cell_type": "code",
   "execution_count": null,
   "id": "a716f4ff",
   "metadata": {},
   "outputs": [],
   "source": [
    "data.drop(columns='Area code',inplace=True)\n",
    "data.head(3)"
   ]
  },
  {
   "cell_type": "markdown",
   "id": "0395e034",
   "metadata": {},
   "source": [
    "### <u> Univariate Analysis"
   ]
  },
  {
   "cell_type": "markdown",
   "id": "5489ed5f",
   "metadata": {},
   "source": [
    "### Histogram"
   ]
  },
  {
   "cell_type": "code",
   "execution_count": null,
   "id": "91beeb40",
   "metadata": {},
   "outputs": [],
   "source": [
    "sns.histplot(data=data,x='FoodRating',bins=5,kde=True)\n",
    "plt.show()"
   ]
  },
  {
   "cell_type": "code",
   "execution_count": null,
   "id": "67e4c755",
   "metadata": {},
   "outputs": [],
   "source": [
    "sns.histplot(data=data,x='ServiceRating',bins=5,kde=True)\n",
    "plt.show()"
   ]
  },
  {
   "cell_type": "code",
   "execution_count": null,
   "id": "74c201ac",
   "metadata": {},
   "outputs": [],
   "source": [
    "sns.histplot(data=data,x='OverallRating',bins=5,kde=True)\n",
    "plt.show()"
   ]
  },
  {
   "cell_type": "markdown",
   "id": "7e2d526d",
   "metadata": {},
   "source": [
    "### <u>Multi variate analysis"
   ]
  },
  {
   "cell_type": "markdown",
   "id": "7edbcab9",
   "metadata": {},
   "source": [
    "#### Countplot"
   ]
  },
  {
   "cell_type": "code",
   "execution_count": null,
   "id": "014a82a1",
   "metadata": {},
   "outputs": [],
   "source": [
    "plt.figure(figsize=(8,7))\n",
    "plt.xticks(rotation=89)\n",
    "sns.countplot(data=data,x='Cuisines',hue='FoodRating')\n",
    "plt.show()"
   ]
  },
  {
   "cell_type": "markdown",
   "id": "04885db5",
   "metadata": {},
   "source": [
    "#### Japanese Cuisines have high rating"
   ]
  },
  {
   "cell_type": "code",
   "execution_count": null,
   "id": "94a25602",
   "metadata": {},
   "outputs": [],
   "source": [
    "plt.figure(figsize=(8,5))\n",
    "plt.xticks(rotation=90)\n",
    "sns.countplot(data=data,x='Cuisines',hue='Gender')\n",
    "plt.show()"
   ]
  },
  {
   "cell_type": "markdown",
   "id": "9ec2aedf",
   "metadata": {},
   "source": [
    "#####  According to plot Males prefer Japanese,Indian,Filipino and Females prefers French Cuisines more"
   ]
  },
  {
   "cell_type": "code",
   "execution_count": null,
   "id": "170730e2",
   "metadata": {
    "scrolled": false
   },
   "outputs": [],
   "source": [
    "plt.figure(figsize=(8,7))\n",
    "plt.xticks(rotation=89)\n",
    "sns.countplot(data=data,x='Cuisines',hue='Activity')\n",
    "\n",
    "plt.show()"
   ]
  },
  {
   "cell_type": "markdown",
   "id": "8b9ea6be",
   "metadata": {},
   "source": [
    "##### From this plot we can understand Students prefer Japanese and Professionals prefer Indian food more"
   ]
  },
  {
   "cell_type": "code",
   "execution_count": null,
   "id": "fb15ac19",
   "metadata": {},
   "outputs": [],
   "source": [
    "plt.figure(figsize=(8,7))\n",
    "plt.xticks(rotation=89)\n",
    "sns.countplot(data=data,x='Cuisines',hue='Budget')\n",
    "plt.title('Cuisines v/s Budget')\n",
    "plt.show()"
   ]
  },
  {
   "cell_type": "code",
   "execution_count": null,
   "id": "5d56fe8e",
   "metadata": {},
   "outputs": [],
   "source": [
    "plt.figure(figsize=(8,7))\n",
    "sns.countplot(data=data,x='ServiceRating',hue='Cuisines')\n",
    "plt.show()"
   ]
  },
  {
   "cell_type": "markdown",
   "id": "5e8b0b91",
   "metadata": {},
   "source": [
    "#### Indian Cuisines have high service rating "
   ]
  },
  {
   "cell_type": "code",
   "execution_count": null,
   "id": "c4ae4f8b",
   "metadata": {
    "scrolled": false
   },
   "outputs": [],
   "source": [
    "plt.figure(figsize=(8,5))\n",
    "plt.xticks(rotation=90)\n",
    "sns.countplot(data=data,x='Cuisines',hue='MaritalStatus')\n",
    "plt.legend(bbox_to_anchor=(1.3,1))\n",
    "plt.show()"
   ]
  },
  {
   "cell_type": "markdown",
   "id": "12f9c0d3",
   "metadata": {},
   "source": [
    "#### Singles consumes more Filipino and Japanese Cuisines more than other "
   ]
  },
  {
   "cell_type": "code",
   "execution_count": null,
   "id": "4063eea6",
   "metadata": {
    "scrolled": true
   },
   "outputs": [],
   "source": [
    "plt.figure(figsize=(8,5))\n",
    "plt.xticks(rotation=90)\n",
    "sns.countplot(data=data,x='Cuisines',hue='Alcohol')\n",
    "plt.show()"
   ]
  },
  {
   "cell_type": "markdown",
   "id": "d3aee9f4",
   "metadata": {},
   "source": [
    "##### Alcohol consumer like to have Filipino and Non-Alcoholic people Like Japanese Food"
   ]
  },
  {
   "cell_type": "code",
   "execution_count": null,
   "id": "1c2d35be",
   "metadata": {},
   "outputs": [],
   "source": [
    "plt.figure(figsize=(17,8))\n",
    "plt.xticks(rotation=90)\n",
    "sns.countplot(data=data,x='Age',hue='FoodRating')\n",
    "plt.title(\"FoodRating given by Age\")\n",
    "plt.show()"
   ]
  },
  {
   "cell_type": "markdown",
   "id": "c614952b",
   "metadata": {},
   "source": [
    "### Barplot"
   ]
  },
  {
   "cell_type": "code",
   "execution_count": null,
   "id": "08207847",
   "metadata": {
    "scrolled": false
   },
   "outputs": [],
   "source": [
    "\n",
    "plt.figure(figsize=(8,5))\n",
    "plt.xticks(rotation=90)\n",
    "sns.barplot(data=data,x='Cuisines',y='FoodRating',hue='Alcohol')\n",
    "plt.title(\"Food rating given by Alcohol consumers for each cuisines\")\n",
    "plt.legend(bbox_to_anchor = (1, 1))\n",
    "plt.show()"
   ]
  },
  {
   "cell_type": "code",
   "execution_count": null,
   "id": "79c1720c",
   "metadata": {
    "scrolled": true
   },
   "outputs": [],
   "source": [
    "\n",
    "plt.figure(figsize=(8,5))\n",
    "plt.xticks(rotation=90)\n",
    "sns.barplot(data=data,x='Cuisines',y='FoodRating',hue='Smoker')\n",
    "plt.title(\"Foodrating  given by Smokers for each Cuisines\")\n",
    "plt.legend(bbox_to_anchor = (1, 1))\n",
    "plt.show()"
   ]
  },
  {
   "cell_type": "code",
   "execution_count": null,
   "id": "91c5f10b",
   "metadata": {
    "scrolled": true
   },
   "outputs": [],
   "source": [
    "\n",
    "plt.figure(figsize=(8,5))\n",
    "plt.xticks(rotation=90)\n",
    "sns.barplot(data=data,x='Gender',y='FoodRating',hue='Alcohol')\n",
    "plt.legend(bbox_to_anchor = (1.4, 1))\n",
    "plt.title(\"FoodRating given by Alcoholic peoples according to genderwise\")\n",
    "plt.show()"
   ]
  },
  {
   "cell_type": "code",
   "execution_count": null,
   "id": "09c2a4f7",
   "metadata": {
    "scrolled": true
   },
   "outputs": [],
   "source": [
    "plt.figure(figsize=(8,5))\n",
    "plt.xticks(rotation=0)\n",
    "sns.barplot(data=data,x='Gender',y='Age',hue='FoodRating')\n",
    "plt.legend(bbox_to_anchor = (1, 1))\n",
    "plt.title('FoodRating given by Gender according to Age')\n",
    "plt.show()"
   ]
  },
  {
   "cell_type": "code",
   "execution_count": null,
   "id": "fbc8d48f",
   "metadata": {},
   "outputs": [],
   "source": [
    "plt.figure(figsize=(8,5))\n",
    "plt.xticks(rotation=80)\n",
    "sns.barplot(data=data,x='Cuisines',y='Age')\n",
    "plt.show()"
   ]
  },
  {
   "cell_type": "markdown",
   "id": "ecf078b7",
   "metadata": {},
   "source": [
    "### LineChart"
   ]
  },
  {
   "cell_type": "code",
   "execution_count": null,
   "id": "5cb8ee71",
   "metadata": {
    "scrolled": false
   },
   "outputs": [],
   "source": [
    "plt.figure(figsize=(8,5))\n",
    "plt.xticks(rotation=50)\n",
    "plt.xlabel('Cuisines')\n",
    "plt.ylabel('Age')\n",
    "sns.lineplot(data=data,x='Cuisines',y='Age')\n",
    "plt.show()"
   ]
  },
  {
   "cell_type": "markdown",
   "id": "186aab64",
   "metadata": {},
   "source": [
    "##### Italian cuisines are more prefered by peoples in between the age of 40 and 42"
   ]
  },
  {
   "cell_type": "markdown",
   "id": "9db5b2b9",
   "metadata": {},
   "source": [
    "### Sorting Function on Location"
   ]
  },
  {
   "cell_type": "code",
   "execution_count": null,
   "id": "4fc970fb",
   "metadata": {},
   "outputs": [],
   "source": [
    "def sort_function(Location):\n",
    "    data_loc=data[data.Location==Location]\n",
    "    data_loc.drop(columns=\"Location\",inplace=True)\n",
    "    return data_loc"
   ]
  },
  {
   "cell_type": "markdown",
   "id": "121d682e",
   "metadata": {},
   "source": [
    "##### Extracting the details of people from \"Upper East Side,NY\""
   ]
  },
  {
   "cell_type": "code",
   "execution_count": null,
   "id": "3c8ee25f",
   "metadata": {
    "scrolled": true
   },
   "outputs": [],
   "source": [
    "UpperEastSide_NY=sort_function('Upper East Side,NY')\n",
    "UpperEastSide_NY.head(3)"
   ]
  },
  {
   "cell_type": "code",
   "execution_count": null,
   "id": "31d626e4",
   "metadata": {},
   "outputs": [],
   "source": [
    "plt.figure(figsize=(10,6))\n",
    "plt.xticks(rotation=70)\n",
    "sns.countplot(data=UpperEastSide_NY,x='Cuisines')\n",
    "plt.show()"
   ]
  },
  {
   "cell_type": "markdown",
   "id": "f8b0952e",
   "metadata": {},
   "source": [
    "#### Peoples in UpperEastSide,NY prefers Chinese Cuisines more"
   ]
  },
  {
   "cell_type": "code",
   "execution_count": null,
   "id": "7d5ac997",
   "metadata": {
    "scrolled": true
   },
   "outputs": [],
   "source": [
    "\n",
    "plt.figure(figsize=(10,6))\n",
    "sns.countplot(data=UpperEastSide_NY,x='OverallRating',hue=\"Smoker\")\n",
    "plt.title('OverallRating given by Smokers')\n",
    "plt.show()"
   ]
  },
  {
   "cell_type": "code",
   "execution_count": null,
   "id": "a6520601",
   "metadata": {
    "scrolled": true
   },
   "outputs": [],
   "source": [
    "palette_color=sns.color_palette('dark')\n",
    "plt.pie(data=data,x=data.Smoker.value_counts(), autopct='%1.2f%%')\n",
    "plt.legend(['Never', 'Socially', 'Often'],bbox_to_anchor = (1, 1))\n",
    "plt.show()"
   ]
  },
  {
   "cell_type": "code",
   "execution_count": null,
   "id": "53c42fa7",
   "metadata": {},
   "outputs": [],
   "source": [
    "palette_color=sns.color_palette('gnuplot')\n",
    "plt.pie(data=data,x=data.Cuisines.value_counts(),autopct='%1.2f%%')\n",
    "plt.legend(['Japanese','Indian','Italian','Filipino','French','Chinese'], bbox_to_anchor = (1, 1))\n",
    "plt.show()"
   ]
  },
  {
   "cell_type": "markdown",
   "id": "94c49d55",
   "metadata": {},
   "source": [
    "### <u> ScatterPlot"
   ]
  },
  {
   "cell_type": "code",
   "execution_count": null,
   "id": "5b18c69b",
   "metadata": {},
   "outputs": [],
   "source": [
    "sns.scatterplot(data=data,x='Often A S',y='Cuisines',hue='Gender',size='Alcohol')\n",
    "plt.show()"
   ]
  },
  {
   "cell_type": "markdown",
   "id": "965507d8",
   "metadata": {},
   "source": [
    "### <u>Heatmap"
   ]
  },
  {
   "cell_type": "code",
   "execution_count": null,
   "id": "e3422add",
   "metadata": {
    "scrolled": false
   },
   "outputs": [],
   "source": [
    "sns.heatmap(data.corr(),annot=True)\n",
    "plt.show()"
   ]
  },
  {
   "cell_type": "code",
   "execution_count": null,
   "id": "7edc3990",
   "metadata": {},
   "outputs": [],
   "source": [
    "sns.heatmap(data.corr()[['Age']].sort_values(by='Age',ascending=False),vmax=1,vmin=-1,annot=True,cmap='Greens')\n",
    "plt.show()"
   ]
  },
  {
   "cell_type": "code",
   "execution_count": null,
   "id": "7f8a8666",
   "metadata": {
    "scrolled": true
   },
   "outputs": [],
   "source": [
    "sns.heatmap(UpperEastSide_NY.corr(),annot=True)\n",
    "plt.title('Heatmap on UpperEast ,Ny')\n",
    "plt.show()"
   ]
  },
  {
   "cell_type": "markdown",
   "id": "56f1b493",
   "metadata": {},
   "source": [
    "##### heatmap using data of UpperEastSide_NY"
   ]
  },
  {
   "cell_type": "markdown",
   "id": "0aa55a71",
   "metadata": {},
   "source": [
    "### Violin plot"
   ]
  },
  {
   "cell_type": "code",
   "execution_count": null,
   "id": "c8e81794",
   "metadata": {
    "scrolled": true
   },
   "outputs": [],
   "source": [
    "sns.violinplot(data=data, y='Age',x='Cuisines')\n",
    "plt.title('Violin plot of Cuisines and Age of Customers')\n",
    "plt.show()\n"
   ]
  },
  {
   "cell_type": "code",
   "execution_count": null,
   "id": "d6e16d66",
   "metadata": {},
   "outputs": [],
   "source": [
    "sns.violinplot(data=data,y='Age',x='FoodRating')\n",
    "plt.show()"
   ]
  },
  {
   "cell_type": "markdown",
   "id": "1aea07de",
   "metadata": {},
   "source": [
    "### Pairplot"
   ]
  },
  {
   "cell_type": "code",
   "execution_count": null,
   "id": "3dc1ae15",
   "metadata": {},
   "outputs": [],
   "source": [
    "sns.pairplot(data=data)\n",
    "plt.show()"
   ]
  },
  {
   "cell_type": "markdown",
   "id": "73d0a54a",
   "metadata": {},
   "source": [
    "### <u><b>Sorting Japanese Cuisine"
   ]
  },
  {
   "cell_type": "code",
   "execution_count": null,
   "id": "54c386a8",
   "metadata": {},
   "outputs": [],
   "source": [
    "def sort_function(Cuisines):\n",
    "    data_food=data[data.Cuisines==Cuisines]\n",
    "    data_food.drop(columns=\"Cuisines\",inplace=True)\n",
    "    return data_food"
   ]
  },
  {
   "cell_type": "code",
   "execution_count": null,
   "id": "e419081d",
   "metadata": {
    "scrolled": true
   },
   "outputs": [],
   "source": [
    "Japanese_food=sort_function('Japanese')\n",
    "Japanese_food.head()"
   ]
  },
  {
   "cell_type": "code",
   "execution_count": null,
   "id": "4994fb1c",
   "metadata": {},
   "outputs": [],
   "source": [
    "palette_color=sns.color_palette('brg')\n",
    "plt.pie(data=Japanese_food,x=Japanese_food.Alcohol.value_counts(),explode=[0.1,0.1,0.1],colors=palette_color,autopct='%0.2f%%',labels=['Never', 'Often', 'Socially'])\n",
    "plt.title(\"Alcholic consumption   people who prefer Japanese food\")\n",
    "plt.show()"
   ]
  },
  {
   "cell_type": "markdown",
   "id": "41635517",
   "metadata": {},
   "source": [
    "### <u>CatPlot"
   ]
  },
  {
   "cell_type": "code",
   "execution_count": null,
   "id": "90fc221f",
   "metadata": {},
   "outputs": [],
   "source": [
    "sns.catplot(data=data,x='Cuisines',y='Age')\n",
    "\n",
    "plt.show()"
   ]
  },
  {
   "cell_type": "markdown",
   "id": "7d05eba6",
   "metadata": {},
   "source": [
    "### <u>Regplot"
   ]
  },
  {
   "cell_type": "code",
   "execution_count": null,
   "id": "16c0d071",
   "metadata": {
    "scrolled": true
   },
   "outputs": [],
   "source": [
    "sns.regplot(data=data,x='Budget',y='FoodRating')\n",
    "plt.title('Regression analysis on Budget and FoodRating')\n",
    "plt.show()"
   ]
  },
  {
   "cell_type": "code",
   "execution_count": null,
   "id": "b98dd243",
   "metadata": {},
   "outputs": [],
   "source": [
    "sns.regplot(data=data,x='Age',y='Budget')\n",
    "plt.title('Regression analysis on Budget and Age')\n",
    "plt.show()"
   ]
  },
  {
   "cell_type": "markdown",
   "id": "e0b75ff4",
   "metadata": {},
   "source": [
    "### <u>Relplot"
   ]
  },
  {
   "cell_type": "code",
   "execution_count": null,
   "id": "de93446d",
   "metadata": {},
   "outputs": [],
   "source": [
    "sns.relplot(data=data,x='Cuisines',y='Age',size='Budget',hue='Budget')\n",
    "plt.title('Relation on Cuisines by Age according to Budget')\n",
    "plt.show()"
   ]
  },
  {
   "cell_type": "markdown",
   "id": "9ecfe04e",
   "metadata": {},
   "source": [
    "### <u>Swarmplot"
   ]
  },
  {
   "cell_type": "code",
   "execution_count": null,
   "id": "1961c5f0",
   "metadata": {},
   "outputs": [],
   "source": [
    "sns.swarmplot(data = data, x = 'Cuisines', y= 'Location')\n",
    "plt.xticks(rotation=90)\n",
    "plt.title('Location wise Cuisines preference')\n",
    "plt.show()\n"
   ]
  },
  {
   "cell_type": "code",
   "execution_count": null,
   "id": "a714f8f9",
   "metadata": {},
   "outputs": [],
   "source": []
  },
  {
   "cell_type": "code",
   "execution_count": null,
   "id": "95bcb968",
   "metadata": {},
   "outputs": [],
   "source": []
  }
 ],
 "metadata": {
  "kernelspec": {
   "display_name": "Python 3 (ipykernel)",
   "language": "python",
   "name": "python3"
  },
  "language_info": {
   "codemirror_mode": {
    "name": "ipython",
    "version": 3
   },
   "file_extension": ".py",
   "mimetype": "text/x-python",
   "name": "python",
   "nbconvert_exporter": "python",
   "pygments_lexer": "ipython3",
   "version": "3.9.13"
  }
 },
 "nbformat": 4,
 "nbformat_minor": 5
}
