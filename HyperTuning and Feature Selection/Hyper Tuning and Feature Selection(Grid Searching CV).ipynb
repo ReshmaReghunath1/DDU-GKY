{
 "cells": [
  {
   "cell_type": "markdown",
   "id": "0f6dc8a4",
   "metadata": {},
   "source": [
    "# <center> <u> HyperTuning and Feature Selection on Carprice Dataset"
   ]
  },
  {
   "cell_type": "code",
   "execution_count": 1,
   "id": "cbe29fa0",
   "metadata": {},
   "outputs": [],
   "source": [
    "import pandas as pd\n",
    "import numpy as np\n",
    "import seaborn as sns\n",
    "import matplotlib.pyplot as plt\n",
    "\n",
    "from sklearn.feature_selection import SelectKBest,f_regression\n",
    "from sklearn.model_selection import train_test_split,cross_val_score,GridSearchCV\n",
    "from sklearn.metrics import r2_score,mean_absolute_error,mean_squared_error\n",
    "from sklearn.linear_model import LinearRegression,Ridge\n",
    "from sklearn.tree import DecisionTreeRegressor\n",
    "from sklearn.ensemble import AdaBoostRegressor,GradientBoostingRegressor,RandomForestRegressor\n",
    "from sklearn.preprocessing import StandardScaler,RobustScaler,LabelEncoder\n",
    "\n",
    "import warnings\n",
    "warnings.filterwarnings('ignore')"
   ]
  },
  {
   "cell_type": "code",
   "execution_count": 2,
   "id": "8be0a766",
   "metadata": {},
   "outputs": [],
   "source": [
    "data = pd.read_csv('./CarPricesData.csv')"
   ]
  },
  {
   "cell_type": "code",
   "execution_count": 3,
   "id": "fd5e139e",
   "metadata": {
    "scrolled": true
   },
   "outputs": [
    {
     "data": {
      "text/html": [
       "<div>\n",
       "<style scoped>\n",
       "    .dataframe tbody tr th:only-of-type {\n",
       "        vertical-align: middle;\n",
       "    }\n",
       "\n",
       "    .dataframe tbody tr th {\n",
       "        vertical-align: top;\n",
       "    }\n",
       "\n",
       "    .dataframe thead th {\n",
       "        text-align: right;\n",
       "    }\n",
       "</style>\n",
       "<table border=\"1\" class=\"dataframe\">\n",
       "  <thead>\n",
       "    <tr style=\"text-align: right;\">\n",
       "      <th></th>\n",
       "      <th>Price</th>\n",
       "      <th>Age</th>\n",
       "      <th>KM</th>\n",
       "      <th>FuelType</th>\n",
       "      <th>HP</th>\n",
       "      <th>MetColor</th>\n",
       "      <th>Automatic</th>\n",
       "      <th>CC</th>\n",
       "      <th>Doors</th>\n",
       "      <th>Weight</th>\n",
       "    </tr>\n",
       "  </thead>\n",
       "  <tbody>\n",
       "    <tr>\n",
       "      <th>0</th>\n",
       "      <td>13500</td>\n",
       "      <td>23.0</td>\n",
       "      <td>46986</td>\n",
       "      <td>Diesel</td>\n",
       "      <td>90</td>\n",
       "      <td>1</td>\n",
       "      <td>0</td>\n",
       "      <td>2000.0</td>\n",
       "      <td>3</td>\n",
       "      <td>1165.0</td>\n",
       "    </tr>\n",
       "    <tr>\n",
       "      <th>1</th>\n",
       "      <td>13750</td>\n",
       "      <td>23.0</td>\n",
       "      <td>72937</td>\n",
       "      <td>Diesel</td>\n",
       "      <td>90</td>\n",
       "      <td>1</td>\n",
       "      <td>0</td>\n",
       "      <td>2000.0</td>\n",
       "      <td>3</td>\n",
       "      <td>1165.0</td>\n",
       "    </tr>\n",
       "    <tr>\n",
       "      <th>2</th>\n",
       "      <td>13950</td>\n",
       "      <td>24.0</td>\n",
       "      <td>41711</td>\n",
       "      <td>Diesel</td>\n",
       "      <td>90</td>\n",
       "      <td>1</td>\n",
       "      <td>0</td>\n",
       "      <td>2000.0</td>\n",
       "      <td>3</td>\n",
       "      <td>1165.0</td>\n",
       "    </tr>\n",
       "    <tr>\n",
       "      <th>3</th>\n",
       "      <td>14950</td>\n",
       "      <td>26.0</td>\n",
       "      <td>48000</td>\n",
       "      <td>Diesel</td>\n",
       "      <td>90</td>\n",
       "      <td>0</td>\n",
       "      <td>0</td>\n",
       "      <td>2000.0</td>\n",
       "      <td>3</td>\n",
       "      <td>1165.0</td>\n",
       "    </tr>\n",
       "    <tr>\n",
       "      <th>4</th>\n",
       "      <td>13750</td>\n",
       "      <td>30.0</td>\n",
       "      <td>38500</td>\n",
       "      <td>Diesel</td>\n",
       "      <td>90</td>\n",
       "      <td>0</td>\n",
       "      <td>0</td>\n",
       "      <td>2000.0</td>\n",
       "      <td>3</td>\n",
       "      <td>1170.0</td>\n",
       "    </tr>\n",
       "  </tbody>\n",
       "</table>\n",
       "</div>"
      ],
      "text/plain": [
       "   Price   Age     KM FuelType  HP  MetColor  Automatic      CC  Doors  Weight\n",
       "0  13500  23.0  46986   Diesel  90         1          0  2000.0      3  1165.0\n",
       "1  13750  23.0  72937   Diesel  90         1          0  2000.0      3  1165.0\n",
       "2  13950  24.0  41711   Diesel  90         1          0  2000.0      3  1165.0\n",
       "3  14950  26.0  48000   Diesel  90         0          0  2000.0      3  1165.0\n",
       "4  13750  30.0  38500   Diesel  90         0          0  2000.0      3  1170.0"
      ]
     },
     "execution_count": 3,
     "metadata": {},
     "output_type": "execute_result"
    }
   ],
   "source": [
    "data.head()"
   ]
  },
  {
   "cell_type": "code",
   "execution_count": 4,
   "id": "3e2c8030",
   "metadata": {},
   "outputs": [
    {
     "name": "stdout",
     "output_type": "stream",
     "text": [
      "<class 'pandas.core.frame.DataFrame'>\n",
      "RangeIndex: 1436 entries, 0 to 1435\n",
      "Data columns (total 10 columns):\n",
      " #   Column     Non-Null Count  Dtype  \n",
      "---  ------     --------------  -----  \n",
      " 0   Price      1436 non-null   int64  \n",
      " 1   Age        1434 non-null   float64\n",
      " 2   KM         1436 non-null   int64  \n",
      " 3   FuelType   1432 non-null   object \n",
      " 4   HP         1436 non-null   int64  \n",
      " 5   MetColor   1436 non-null   int64  \n",
      " 6   Automatic  1436 non-null   int64  \n",
      " 7   CC         1434 non-null   float64\n",
      " 8   Doors      1436 non-null   int64  \n",
      " 9   Weight     1434 non-null   float64\n",
      "dtypes: float64(3), int64(6), object(1)\n",
      "memory usage: 112.3+ KB\n"
     ]
    }
   ],
   "source": [
    "data.info()"
   ]
  },
  {
   "cell_type": "code",
   "execution_count": 5,
   "id": "2457ea3e",
   "metadata": {},
   "outputs": [
    {
     "data": {
      "text/plain": [
       "Price        0.000000\n",
       "Age          0.139276\n",
       "KM           0.000000\n",
       "FuelType     0.278552\n",
       "HP           0.000000\n",
       "MetColor     0.000000\n",
       "Automatic    0.000000\n",
       "CC           0.139276\n",
       "Doors        0.000000\n",
       "Weight       0.139276\n",
       "dtype: float64"
      ]
     },
     "execution_count": 5,
     "metadata": {},
     "output_type": "execute_result"
    }
   ],
   "source": [
    "data.isnull().mean()*100"
   ]
  },
  {
   "cell_type": "code",
   "execution_count": 6,
   "id": "72e3532f",
   "metadata": {},
   "outputs": [],
   "source": [
    "data.dropna(inplace=True)"
   ]
  },
  {
   "cell_type": "code",
   "execution_count": 7,
   "id": "c3a4511a",
   "metadata": {},
   "outputs": [
    {
     "data": {
      "text/plain": [
       "1"
      ]
     },
     "execution_count": 7,
     "metadata": {},
     "output_type": "execute_result"
    }
   ],
   "source": [
    "data.duplicated().sum()"
   ]
  },
  {
   "cell_type": "code",
   "execution_count": 8,
   "id": "cb9bcb8c",
   "metadata": {},
   "outputs": [],
   "source": [
    "data.drop_duplicates(inplace=True)"
   ]
  },
  {
   "cell_type": "code",
   "execution_count": 9,
   "id": "61da0c05",
   "metadata": {},
   "outputs": [],
   "source": [
    "le = LabelEncoder()"
   ]
  },
  {
   "cell_type": "code",
   "execution_count": 10,
   "id": "ad344e1d",
   "metadata": {},
   "outputs": [],
   "source": [
    "for i in data.columns:\n",
    "    if data[i].dtypes == 'object':\n",
    "        data[i] = le.fit_transform(data[i])"
   ]
  },
  {
   "cell_type": "code",
   "execution_count": 11,
   "id": "fd1097cf",
   "metadata": {},
   "outputs": [
    {
     "data": {
      "text/html": [
       "<div>\n",
       "<style scoped>\n",
       "    .dataframe tbody tr th:only-of-type {\n",
       "        vertical-align: middle;\n",
       "    }\n",
       "\n",
       "    .dataframe tbody tr th {\n",
       "        vertical-align: top;\n",
       "    }\n",
       "\n",
       "    .dataframe thead th {\n",
       "        text-align: right;\n",
       "    }\n",
       "</style>\n",
       "<table border=\"1\" class=\"dataframe\">\n",
       "  <thead>\n",
       "    <tr style=\"text-align: right;\">\n",
       "      <th></th>\n",
       "      <th>Price</th>\n",
       "      <th>Age</th>\n",
       "      <th>KM</th>\n",
       "      <th>FuelType</th>\n",
       "      <th>HP</th>\n",
       "      <th>MetColor</th>\n",
       "      <th>Automatic</th>\n",
       "      <th>CC</th>\n",
       "      <th>Doors</th>\n",
       "      <th>Weight</th>\n",
       "    </tr>\n",
       "  </thead>\n",
       "  <tbody>\n",
       "    <tr>\n",
       "      <th>566</th>\n",
       "      <td>10995</td>\n",
       "      <td>55.0</td>\n",
       "      <td>36406</td>\n",
       "      <td>2</td>\n",
       "      <td>110</td>\n",
       "      <td>1</td>\n",
       "      <td>0</td>\n",
       "      <td>1600.0</td>\n",
       "      <td>4</td>\n",
       "      <td>1035.0</td>\n",
       "    </tr>\n",
       "    <tr>\n",
       "      <th>400</th>\n",
       "      <td>8950</td>\n",
       "      <td>53.0</td>\n",
       "      <td>115113</td>\n",
       "      <td>2</td>\n",
       "      <td>97</td>\n",
       "      <td>1</td>\n",
       "      <td>0</td>\n",
       "      <td>1400.0</td>\n",
       "      <td>3</td>\n",
       "      <td>1025.0</td>\n",
       "    </tr>\n",
       "    <tr>\n",
       "      <th>1255</th>\n",
       "      <td>7950</td>\n",
       "      <td>75.0</td>\n",
       "      <td>76382</td>\n",
       "      <td>2</td>\n",
       "      <td>110</td>\n",
       "      <td>1</td>\n",
       "      <td>0</td>\n",
       "      <td>1600.0</td>\n",
       "      <td>3</td>\n",
       "      <td>1055.0</td>\n",
       "    </tr>\n",
       "    <tr>\n",
       "      <th>696</th>\n",
       "      <td>12250</td>\n",
       "      <td>60.0</td>\n",
       "      <td>96000</td>\n",
       "      <td>1</td>\n",
       "      <td>72</td>\n",
       "      <td>0</td>\n",
       "      <td>0</td>\n",
       "      <td>2000.0</td>\n",
       "      <td>4</td>\n",
       "      <td>1100.0</td>\n",
       "    </tr>\n",
       "    <tr>\n",
       "      <th>239</th>\n",
       "      <td>11950</td>\n",
       "      <td>40.0</td>\n",
       "      <td>58954</td>\n",
       "      <td>2</td>\n",
       "      <td>110</td>\n",
       "      <td>1</td>\n",
       "      <td>0</td>\n",
       "      <td>1600.0</td>\n",
       "      <td>5</td>\n",
       "      <td>1080.0</td>\n",
       "    </tr>\n",
       "    <tr>\n",
       "      <th>940</th>\n",
       "      <td>9450</td>\n",
       "      <td>61.0</td>\n",
       "      <td>54125</td>\n",
       "      <td>2</td>\n",
       "      <td>110</td>\n",
       "      <td>1</td>\n",
       "      <td>0</td>\n",
       "      <td>1600.0</td>\n",
       "      <td>5</td>\n",
       "      <td>1035.0</td>\n",
       "    </tr>\n",
       "    <tr>\n",
       "      <th>1282</th>\n",
       "      <td>7500</td>\n",
       "      <td>80.0</td>\n",
       "      <td>73200</td>\n",
       "      <td>2</td>\n",
       "      <td>110</td>\n",
       "      <td>1</td>\n",
       "      <td>0</td>\n",
       "      <td>1600.0</td>\n",
       "      <td>5</td>\n",
       "      <td>1070.0</td>\n",
       "    </tr>\n",
       "    <tr>\n",
       "      <th>995</th>\n",
       "      <td>9950</td>\n",
       "      <td>68.0</td>\n",
       "      <td>42750</td>\n",
       "      <td>2</td>\n",
       "      <td>110</td>\n",
       "      <td>1</td>\n",
       "      <td>0</td>\n",
       "      <td>1600.0</td>\n",
       "      <td>3</td>\n",
       "      <td>1050.0</td>\n",
       "    </tr>\n",
       "    <tr>\n",
       "      <th>16</th>\n",
       "      <td>22750</td>\n",
       "      <td>30.0</td>\n",
       "      <td>34000</td>\n",
       "      <td>2</td>\n",
       "      <td>192</td>\n",
       "      <td>1</td>\n",
       "      <td>0</td>\n",
       "      <td>1800.0</td>\n",
       "      <td>3</td>\n",
       "      <td>1185.0</td>\n",
       "    </tr>\n",
       "    <tr>\n",
       "      <th>37</th>\n",
       "      <td>14950</td>\n",
       "      <td>23.0</td>\n",
       "      <td>10000</td>\n",
       "      <td>2</td>\n",
       "      <td>97</td>\n",
       "      <td>1</td>\n",
       "      <td>0</td>\n",
       "      <td>1400.0</td>\n",
       "      <td>3</td>\n",
       "      <td>1100.0</td>\n",
       "    </tr>\n",
       "  </tbody>\n",
       "</table>\n",
       "</div>"
      ],
      "text/plain": [
       "      Price   Age      KM  FuelType   HP  MetColor  Automatic      CC  Doors  \\\n",
       "566   10995  55.0   36406         2  110         1          0  1600.0      4   \n",
       "400    8950  53.0  115113         2   97         1          0  1400.0      3   \n",
       "1255   7950  75.0   76382         2  110         1          0  1600.0      3   \n",
       "696   12250  60.0   96000         1   72         0          0  2000.0      4   \n",
       "239   11950  40.0   58954         2  110         1          0  1600.0      5   \n",
       "940    9450  61.0   54125         2  110         1          0  1600.0      5   \n",
       "1282   7500  80.0   73200         2  110         1          0  1600.0      5   \n",
       "995    9950  68.0   42750         2  110         1          0  1600.0      3   \n",
       "16    22750  30.0   34000         2  192         1          0  1800.0      3   \n",
       "37    14950  23.0   10000         2   97         1          0  1400.0      3   \n",
       "\n",
       "      Weight  \n",
       "566   1035.0  \n",
       "400   1025.0  \n",
       "1255  1055.0  \n",
       "696   1100.0  \n",
       "239   1080.0  \n",
       "940   1035.0  \n",
       "1282  1070.0  \n",
       "995   1050.0  \n",
       "16    1185.0  \n",
       "37    1100.0  "
      ]
     },
     "execution_count": 11,
     "metadata": {},
     "output_type": "execute_result"
    }
   ],
   "source": [
    "data.sample(10)"
   ]
  },
  {
   "cell_type": "markdown",
   "id": "489eddf5",
   "metadata": {},
   "source": [
    "### Selecting the features and targets"
   ]
  },
  {
   "cell_type": "code",
   "execution_count": 12,
   "id": "00787fd4",
   "metadata": {},
   "outputs": [],
   "source": [
    "x = data.iloc[:, 1:].values\n",
    "y = data.iloc[: ,0].values"
   ]
  },
  {
   "cell_type": "code",
   "execution_count": 13,
   "id": "8563e082",
   "metadata": {},
   "outputs": [],
   "source": [
    "x_train,x_test,y_train,y_test = train_test_split(x,y, test_size=0.2,random_state=42,shuffle=True)"
   ]
  },
  {
   "cell_type": "markdown",
   "id": "0b0752cd",
   "metadata": {},
   "source": [
    "### Checking model scores without feature selection"
   ]
  },
  {
   "cell_type": "code",
   "execution_count": 14,
   "id": "c58548f7",
   "metadata": {},
   "outputs": [],
   "source": [
    "model = LinearRegression()"
   ]
  },
  {
   "cell_type": "code",
   "execution_count": 15,
   "id": "633857e7",
   "metadata": {},
   "outputs": [
    {
     "data": {
      "text/plain": [
       "LinearRegression()"
      ]
     },
     "execution_count": 15,
     "metadata": {},
     "output_type": "execute_result"
    }
   ],
   "source": [
    "model.fit(x_train,y_train)"
   ]
  },
  {
   "cell_type": "code",
   "execution_count": 16,
   "id": "90ea79bf",
   "metadata": {},
   "outputs": [],
   "source": [
    "y_pred = model.predict(x_test)"
   ]
  },
  {
   "cell_type": "code",
   "execution_count": 17,
   "id": "aa12474c",
   "metadata": {},
   "outputs": [
    {
     "data": {
      "text/plain": [
       "0.8708517690870113"
      ]
     },
     "execution_count": 17,
     "metadata": {},
     "output_type": "execute_result"
    }
   ],
   "source": [
    "model.score(x_test,y_test)"
   ]
  },
  {
   "cell_type": "code",
   "execution_count": 18,
   "id": "747ad780",
   "metadata": {},
   "outputs": [
    {
     "data": {
      "text/plain": [
       "0.861762477331229"
      ]
     },
     "execution_count": 18,
     "metadata": {},
     "output_type": "execute_result"
    }
   ],
   "source": [
    "model.score(x_train,y_train)"
   ]
  },
  {
   "cell_type": "markdown",
   "id": "9d9492c5",
   "metadata": {},
   "source": [
    "### Defining feature selection with all features included"
   ]
  },
  {
   "cell_type": "code",
   "execution_count": 19,
   "id": "6b5e56a3",
   "metadata": {},
   "outputs": [],
   "source": [
    "fs = SelectKBest(score_func=f_regression, k='all')"
   ]
  },
  {
   "cell_type": "markdown",
   "id": "2430cc30",
   "metadata": {},
   "source": [
    "### Fitting the fs"
   ]
  },
  {
   "cell_type": "code",
   "execution_count": 20,
   "id": "564d799c",
   "metadata": {},
   "outputs": [
    {
     "data": {
      "text/plain": [
       "SelectKBest(k='all', score_func=<function f_regression at 0x000001678AA13940>)"
      ]
     },
     "execution_count": 20,
     "metadata": {},
     "output_type": "execute_result"
    }
   ],
   "source": [
    "fs.fit(x_train,y_train)"
   ]
  },
  {
   "cell_type": "markdown",
   "id": "fcb39e89",
   "metadata": {},
   "source": [
    "### Checking the scores for the features"
   ]
  },
  {
   "cell_type": "code",
   "execution_count": 21,
   "id": "c388d06d",
   "metadata": {},
   "outputs": [
    {
     "name": "stdout",
     "output_type": "stream",
     "text": [
      "Feature 0: 3723.096607\n",
      "Feature 1: 589.688041\n",
      "Feature 2: 0.007963\n",
      "Feature 3: 137.680309\n",
      "Feature 4: 10.973220\n",
      "Feature 5: 0.873022\n",
      "Feature 6: 23.886260\n",
      "Feature 7: 40.573243\n",
      "Feature 8: 506.819328\n"
     ]
    }
   ],
   "source": [
    "for i in range(len(fs.scores_)):\n",
    "    print('Feature %d: %f' %(i, fs.scores_[i]))"
   ]
  },
  {
   "cell_type": "markdown",
   "id": "e9167c09",
   "metadata": {},
   "source": [
    "### Plotting the scores in a bar grapgh"
   ]
  },
  {
   "cell_type": "code",
   "execution_count": 22,
   "id": "de62c83a",
   "metadata": {
    "scrolled": true
   },
   "outputs": [
    {
     "data": {
      "image/png": "[encoded data removed]",
      "text/plain": [
       "<Figure size 640x480 with 1 Axes>"
      ]
     },
     "metadata": {},
     "output_type": "display_data"
    }
   ],
   "source": [
    "plt.bar([i for i in range(len(fs.scores_))], fs.scores_)\n",
    "plt.show()"
   ]
  },
  {
   "cell_type": "markdown",
   "id": "35074da1",
   "metadata": {},
   "source": [
    "#### Selecting k = 4"
   ]
  },
  {
   "cell_type": "code",
   "execution_count": 23,
   "id": "b60becc3",
   "metadata": {},
   "outputs": [],
   "source": [
    "fs = SelectKBest(score_func=f_regression, k=4)"
   ]
  },
  {
   "cell_type": "markdown",
   "id": "01045deb",
   "metadata": {},
   "source": [
    "#### Transorm the train and test data"
   ]
  },
  {
   "cell_type": "code",
   "execution_count": 24,
   "id": "d9f21048",
   "metadata": {},
   "outputs": [
    {
     "data": {
      "text/plain": [
       "SelectKBest(k=4, score_func=<function f_regression at 0x000001678AA13940>)"
      ]
     },
     "execution_count": 24,
     "metadata": {},
     "output_type": "execute_result"
    }
   ],
   "source": [
    "fs.fit(x_train,y_train)"
   ]
  },
  {
   "cell_type": "code",
   "execution_count": 25,
   "id": "49cab3b7",
   "metadata": {},
   "outputs": [],
   "source": [
    "x_train_fs = fs.transform(x_train)\n",
    "x_test_fs = fs.transform(x_test)"
   ]
  },
  {
   "cell_type": "code",
   "execution_count": 26,
   "id": "2124d50d",
   "metadata": {},
   "outputs": [
    {
     "data": {
      "text/plain": [
       "(285, 4)"
      ]
     },
     "execution_count": 26,
     "metadata": {},
     "output_type": "execute_result"
    }
   ],
   "source": [
    "x_test_fs.shape"
   ]
  },
  {
   "cell_type": "code",
   "execution_count": 27,
   "id": "3156624b",
   "metadata": {},
   "outputs": [
    {
     "data": {
      "text/plain": [
       "(1140, 4)"
      ]
     },
     "execution_count": 27,
     "metadata": {},
     "output_type": "execute_result"
    }
   ],
   "source": [
    "x_train_fs.shape"
   ]
  },
  {
   "cell_type": "code",
   "execution_count": 28,
   "id": "fa299763",
   "metadata": {},
   "outputs": [],
   "source": [
    "model =LinearRegression()"
   ]
  },
  {
   "cell_type": "code",
   "execution_count": 29,
   "id": "2ef054e2",
   "metadata": {},
   "outputs": [
    {
     "data": {
      "text/plain": [
       "LinearRegression()"
      ]
     },
     "execution_count": 29,
     "metadata": {},
     "output_type": "execute_result"
    }
   ],
   "source": [
    "model.fit(x_train_fs,y_train)"
   ]
  },
  {
   "cell_type": "code",
   "execution_count": 30,
   "id": "4d973925",
   "metadata": {},
   "outputs": [],
   "source": [
    "y_pred_fs = model.predict(x_test_fs)"
   ]
  },
  {
   "cell_type": "code",
   "execution_count": 31,
   "id": "5cf6f9d8",
   "metadata": {},
   "outputs": [
    {
     "data": {
      "text/plain": [
       "0.8581005278601517"
      ]
     },
     "execution_count": 31,
     "metadata": {},
     "output_type": "execute_result"
    }
   ],
   "source": [
    "model.score(x_train_fs,y_train)"
   ]
  },
  {
   "cell_type": "code",
   "execution_count": 32,
   "id": "86c3f9d4",
   "metadata": {},
   "outputs": [
    {
     "data": {
      "text/plain": [
       "0.8660327850546731"
      ]
     },
     "execution_count": 32,
     "metadata": {},
     "output_type": "execute_result"
    }
   ],
   "source": [
    "model.score(x_test_fs,y_test)"
   ]
  },
  {
   "cell_type": "markdown",
   "id": "2fb0b319",
   "metadata": {},
   "source": [
    "#### Selecting only the top feature"
   ]
  },
  {
   "cell_type": "code",
   "execution_count": 33,
   "id": "f3bbe9f7",
   "metadata": {},
   "outputs": [],
   "source": [
    "fs = SelectKBest(score_func=f_regression, k=1)"
   ]
  },
  {
   "cell_type": "markdown",
   "id": "a4f61081",
   "metadata": {},
   "source": [
    "#### Fitting the fs"
   ]
  },
  {
   "cell_type": "code",
   "execution_count": 34,
   "id": "1fab087d",
   "metadata": {},
   "outputs": [
    {
     "data": {
      "text/plain": [
       "SelectKBest(k=1, score_func=<function f_regression at 0x000001678AA13940>)"
      ]
     },
     "execution_count": 34,
     "metadata": {},
     "output_type": "execute_result"
    }
   ],
   "source": [
    "fs.fit(x_train,y_train)"
   ]
  },
  {
   "cell_type": "markdown",
   "id": "b1b72d0e",
   "metadata": {},
   "source": [
    "#### Transforming the training and testing data"
   ]
  },
  {
   "cell_type": "code",
   "execution_count": 35,
   "id": "90a46955",
   "metadata": {},
   "outputs": [],
   "source": [
    "x_train_fs = fs.transform(x_train)\n",
    "x_test_fs = fs.transform(x_test)"
   ]
  },
  {
   "cell_type": "code",
   "execution_count": 36,
   "id": "d2371de4",
   "metadata": {},
   "outputs": [
    {
     "data": {
      "text/plain": [
       "LinearRegression()"
      ]
     },
     "execution_count": 36,
     "metadata": {},
     "output_type": "execute_result"
    }
   ],
   "source": [
    "model.fit(x_train_fs,y_train)"
   ]
  },
  {
   "cell_type": "code",
   "execution_count": 37,
   "id": "5f42181f",
   "metadata": {},
   "outputs": [
    {
     "data": {
      "text/plain": [
       "0.7658964443630741"
      ]
     },
     "execution_count": 37,
     "metadata": {},
     "output_type": "execute_result"
    }
   ],
   "source": [
    "model.score(x_train_fs,y_train)"
   ]
  },
  {
   "cell_type": "code",
   "execution_count": 38,
   "id": "358c5994",
   "metadata": {},
   "outputs": [
    {
     "data": {
      "text/plain": [
       "0.78439624199139"
      ]
     },
     "execution_count": 38,
     "metadata": {},
     "output_type": "execute_result"
    }
   ],
   "source": [
    "model.score(x_test_fs,y_test)"
   ]
  },
  {
   "cell_type": "markdown",
   "id": "85f02202",
   "metadata": {},
   "source": [
    "#### We can see that there is 76% of accuracy just by using only one variable"
   ]
  },
  {
   "cell_type": "markdown",
   "id": "6730a2f4",
   "metadata": {},
   "source": [
    "### GradientBoostingRegressor()"
   ]
  },
  {
   "cell_type": "code",
   "execution_count": 39,
   "id": "54c88faa",
   "metadata": {},
   "outputs": [
    {
     "name": "stdout",
     "output_type": "stream",
     "text": [
      "score before hyper parameter tuning is :0.8600159810881348\n"
     ]
    }
   ],
   "source": [
    "best_model = GradientBoostingRegressor().fit(x_train_fs ,y_train)\n",
    "y_pred = best_model.predict(x_test_fs)\n",
    "score = r2_score(y_test,y_pred)\n",
    "print(\"score before hyper parameter tuning is :{}\".format(score))"
   ]
  },
  {
   "cell_type": "code",
   "execution_count": 40,
   "id": "331becde",
   "metadata": {},
   "outputs": [],
   "source": [
    "gbr = GradientBoostingRegressor()"
   ]
  },
  {
   "cell_type": "code",
   "execution_count": 41,
   "id": "bfd70c5d",
   "metadata": {},
   "outputs": [],
   "source": [
    "parameter = {'learning_rate':[0.01,0.02,0.03,0.04,0.05],\n",
    "                'subsample':  [0.9,0.5,0.4,0.2,0.1],\n",
    "              'n_estimators':[100,400,900],\n",
    "                 'max_depth':[4,6,7]}"
   ]
  },
  {
   "cell_type": "code",
   "execution_count": 42,
   "id": "8039d8bb",
   "metadata": {},
   "outputs": [],
   "source": [
    "grid_gbr = GridSearchCV(estimator= gbr ,param_grid=parameter,cv=2,n_jobs=-1,verbose=3)"
   ]
  },
  {
   "cell_type": "code",
   "execution_count": 43,
   "id": "575494df",
   "metadata": {},
   "outputs": [
    {
     "name": "stdout",
     "output_type": "stream",
     "text": [
      "Fitting 2 folds for each of 225 candidates, totalling 450 fits\n"
     ]
    },
    {
     "data": {
      "text/plain": [
       "GridSearchCV(cv=2, estimator=GradientBoostingRegressor(), n_jobs=-1,\n",
       "             param_grid={'learning_rate': [0.01, 0.02, 0.03, 0.04, 0.05],\n",
       "                         'max_depth': [4, 6, 7],\n",
       "                         'n_estimators': [100, 400, 900],\n",
       "                         'subsample': [0.9, 0.5, 0.4, 0.2, 0.1]},\n",
       "             verbose=3)"
      ]
     },
     "execution_count": 43,
     "metadata": {},
     "output_type": "execute_result"
    }
   ],
   "source": [
    "grid_gbr.fit(x_train_fs,y_train)"
   ]
  },
  {
   "cell_type": "code",
   "execution_count": 44,
   "id": "b78a83b8",
   "metadata": {},
   "outputs": [
    {
     "data": {
      "text/plain": [
       "{'learning_rate': 0.03, 'max_depth': 4, 'n_estimators': 100, 'subsample': 0.9}"
      ]
     },
     "execution_count": 44,
     "metadata": {},
     "output_type": "execute_result"
    }
   ],
   "source": [
    "grid_gbr.best_params_"
   ]
  },
  {
   "cell_type": "code",
   "execution_count": 45,
   "id": "05d054e4",
   "metadata": {},
   "outputs": [],
   "source": [
    "grid_gbr_tuned = GradientBoostingRegressor(learning_rate= 0.01,max_depth=4,n_estimators= 400, subsample= 0.4)"
   ]
  },
  {
   "cell_type": "code",
   "execution_count": 46,
   "id": "7933d13f",
   "metadata": {},
   "outputs": [
    {
     "data": {
      "text/plain": [
       "GradientBoostingRegressor(learning_rate=0.01, max_depth=4, n_estimators=400,\n",
       "                          subsample=0.4)"
      ]
     },
     "execution_count": 46,
     "metadata": {},
     "output_type": "execute_result"
    }
   ],
   "source": [
    "grid_gbr_tuned.fit(x_train_fs,y_train)"
   ]
  },
  {
   "cell_type": "code",
   "execution_count": 47,
   "id": "f460b31e",
   "metadata": {},
   "outputs": [],
   "source": [
    "y_pred_gbr = grid_gbr_tuned.predict(x_test_fs)"
   ]
  },
  {
   "cell_type": "code",
   "execution_count": 48,
   "id": "51c527a2",
   "metadata": {},
   "outputs": [
    {
     "name": "stdout",
     "output_type": "stream",
     "text": [
      "r2_score : 0.8626155837971516\n",
      "mae : 998.8905247621896\n",
      "mse : 1701250.9975657002\n",
      "rsme : 1304.3201284829197\n"
     ]
    }
   ],
   "source": [
    "score = r2_score(y_test,y_pred_gbr)\n",
    "mae = mean_absolute_error(y_test,y_pred_gbr)\n",
    "mse = mean_squared_error(y_test,y_pred_gbr)\n",
    "rsme = np.sqrt(mse)\n",
    "print('r2_score :',score)\n",
    "print('mae :',mae)\n",
    "print('mse :',mse)\n",
    "print('rsme :',rsme)"
   ]
  },
  {
   "cell_type": "code",
   "execution_count": 49,
   "id": "ac3f4e7a",
   "metadata": {},
   "outputs": [
    {
     "name": "stdout",
     "output_type": "stream",
     "text": [
      "score before hyper parameter tuning is :0.9182694735991277\n"
     ]
    }
   ],
   "source": [
    "best_model = GradientBoostingRegressor().fit(x_train,y_train)\n",
    "y_pred = best_model.predict(x_test)\n",
    "score = r2_score(y_test,y_pred)\n",
    "print(\"score before hyper parameter tuning is :{}\".format(score))"
   ]
  },
  {
   "cell_type": "code",
   "execution_count": 50,
   "id": "2a65e0c5",
   "metadata": {},
   "outputs": [],
   "source": [
    "gbr = GradientBoostingRegressor()"
   ]
  },
  {
   "cell_type": "code",
   "execution_count": 51,
   "id": "ec1e4e67",
   "metadata": {},
   "outputs": [],
   "source": [
    "parameter = {'learning_rate':[0.01,0.02,0.03,0.04,0.05],\n",
    "                'subsample':  [0.9,0.5,0.4,0.2,0.1],\n",
    "              'n_estimators':[100,400,900],\n",
    "                 'max_depth':[4,6,7]}"
   ]
  },
  {
   "cell_type": "code",
   "execution_count": 52,
   "id": "bf2d95e5",
   "metadata": {},
   "outputs": [],
   "source": [
    "grid_gbr = GridSearchCV(estimator= gbr ,param_grid=parameter,cv=2,n_jobs=-1,verbose=3)"
   ]
  },
  {
   "cell_type": "code",
   "execution_count": 53,
   "id": "0c5d8e31",
   "metadata": {},
   "outputs": [
    {
     "name": "stdout",
     "output_type": "stream",
     "text": [
      "Fitting 2 folds for each of 225 candidates, totalling 450 fits\n"
     ]
    },
    {
     "data": {
      "text/plain": [
       "GridSearchCV(cv=2, estimator=GradientBoostingRegressor(), n_jobs=-1,\n",
       "             param_grid={'learning_rate': [0.01, 0.02, 0.03, 0.04, 0.05],\n",
       "                         'max_depth': [4, 6, 7],\n",
       "                         'n_estimators': [100, 400, 900],\n",
       "                         'subsample': [0.9, 0.5, 0.4, 0.2, 0.1]},\n",
       "             verbose=3)"
      ]
     },
     "execution_count": 53,
     "metadata": {},
     "output_type": "execute_result"
    }
   ],
   "source": [
    "grid_gbr.fit(x_train,y_train)"
   ]
  },
  {
   "cell_type": "code",
   "execution_count": 54,
   "id": "2b4ec8f0",
   "metadata": {},
   "outputs": [
    {
     "data": {
      "text/plain": [
       "{'learning_rate': 0.04, 'max_depth': 4, 'n_estimators': 100, 'subsample': 0.5}"
      ]
     },
     "execution_count": 54,
     "metadata": {},
     "output_type": "execute_result"
    }
   ],
   "source": [
    "grid_gbr.best_params_"
   ]
  },
  {
   "cell_type": "code",
   "execution_count": 55,
   "id": "bb75d3c4",
   "metadata": {},
   "outputs": [],
   "source": [
    "grid_gbr_tuned = GradientBoostingRegressor(learning_rate= 0.01,max_depth=4,n_estimators= 400, subsample= 0.5)"
   ]
  },
  {
   "cell_type": "code",
   "execution_count": 56,
   "id": "3b4dbd8a",
   "metadata": {},
   "outputs": [
    {
     "data": {
      "text/plain": [
       "GradientBoostingRegressor(learning_rate=0.01, max_depth=4, n_estimators=400,\n",
       "                          subsample=0.5)"
      ]
     },
     "execution_count": 56,
     "metadata": {},
     "output_type": "execute_result"
    }
   ],
   "source": [
    "grid_gbr_tuned.fit(x_train,y_train)"
   ]
  },
  {
   "cell_type": "code",
   "execution_count": 57,
   "id": "927ff40f",
   "metadata": {},
   "outputs": [],
   "source": [
    "y_pred_gbr = grid_gbr_tuned.predict(x_test)"
   ]
  },
  {
   "cell_type": "code",
   "execution_count": 58,
   "id": "84d2109d",
   "metadata": {
    "scrolled": true
   },
   "outputs": [
    {
     "name": "stdout",
     "output_type": "stream",
     "text": [
      "r2_score : 0.9204064498734766\n",
      "mae : 799.46954195319\n",
      "mse : 985618.3859500655\n",
      "rsme : 992.7831515240705\n"
     ]
    }
   ],
   "source": [
    "score = r2_score(y_test,y_pred_gbr)\n",
    "mae = mean_absolute_error(y_test,y_pred_gbr)\n",
    "mse = mean_squared_error(y_test,y_pred_gbr)\n",
    "rsme = np.sqrt(mse)\n",
    "print('r2_score :',score)\n",
    "print('mae :',mae)\n",
    "print('mse :',mse)\n",
    "print('rsme :',rsme)"
   ]
  },
  {
   "cell_type": "code",
   "execution_count": 59,
   "id": "fce1cf63",
   "metadata": {},
   "outputs": [],
   "source": [
    "predict = grid_gbr_tuned.predict(x)"
   ]
  },
  {
   "cell_type": "code",
   "execution_count": 60,
   "id": "c8f8a4ea",
   "metadata": {},
   "outputs": [],
   "source": [
    "price = data.Price.values"
   ]
  },
  {
   "cell_type": "code",
   "execution_count": 61,
   "id": "47dc4864",
   "metadata": {},
   "outputs": [],
   "source": [
    " Predict = pd.DataFrame(zip(price,predict),columns=('ACTUAL',\"PREDICTION\"))"
   ]
  },
  {
   "cell_type": "code",
   "execution_count": 62,
   "id": "b16ada14",
   "metadata": {},
   "outputs": [
    {
     "data": {
      "text/html": [
       "<div>\n",
       "<style scoped>\n",
       "    .dataframe tbody tr th:only-of-type {\n",
       "        vertical-align: middle;\n",
       "    }\n",
       "\n",
       "    .dataframe tbody tr th {\n",
       "        vertical-align: top;\n",
       "    }\n",
       "\n",
       "    .dataframe thead th {\n",
       "        text-align: right;\n",
       "    }\n",
       "</style>\n",
       "<table border=\"1\" class=\"dataframe\">\n",
       "  <thead>\n",
       "    <tr style=\"text-align: right;\">\n",
       "      <th></th>\n",
       "      <th>ACTUAL</th>\n",
       "      <th>PREDICTION</th>\n",
       "    </tr>\n",
       "  </thead>\n",
       "  <tbody>\n",
       "    <tr>\n",
       "      <th>0</th>\n",
       "      <td>13500</td>\n",
       "      <td>14794.471967</td>\n",
       "    </tr>\n",
       "    <tr>\n",
       "      <th>1</th>\n",
       "      <td>13750</td>\n",
       "      <td>14709.412647</td>\n",
       "    </tr>\n",
       "    <tr>\n",
       "      <th>2</th>\n",
       "      <td>13950</td>\n",
       "      <td>14853.285158</td>\n",
       "    </tr>\n",
       "    <tr>\n",
       "      <th>3</th>\n",
       "      <td>14950</td>\n",
       "      <td>14916.617864</td>\n",
       "    </tr>\n",
       "    <tr>\n",
       "      <th>4</th>\n",
       "      <td>13750</td>\n",
       "      <td>15087.592503</td>\n",
       "    </tr>\n",
       "  </tbody>\n",
       "</table>\n",
       "</div>"
      ],
      "text/plain": [
       "   ACTUAL    PREDICTION\n",
       "0   13500  14794.471967\n",
       "1   13750  14709.412647\n",
       "2   13950  14853.285158\n",
       "3   14950  14916.617864\n",
       "4   13750  15087.592503"
      ]
     },
     "execution_count": 62,
     "metadata": {},
     "output_type": "execute_result"
    }
   ],
   "source": [
    "Predict.head()"
   ]
  },
  {
   "cell_type": "code",
   "execution_count": 63,
   "id": "3d4cdaac",
   "metadata": {},
   "outputs": [
    {
     "data": {
      "image/png": "[encoded data removed]",
      "text/plain": [
       "<Figure size 640x480 with 1 Axes>"
      ]
     },
     "metadata": {},
     "output_type": "display_data"
    }
   ],
   "source": [
    "sns.regplot(data=Predict,x ='ACTUAL',y = 'PREDICTION')\n",
    "plt.show()"
   ]
  },
  {
   "cell_type": "markdown",
   "id": "2d9e8970",
   "metadata": {},
   "source": [
    "### AdaBoostRegressor"
   ]
  },
  {
   "cell_type": "code",
   "execution_count": 64,
   "id": "27302fa1",
   "metadata": {
    "scrolled": true
   },
   "outputs": [
    {
     "name": "stdout",
     "output_type": "stream",
     "text": [
      "score before hyper parameter tuning is :0.8495696564182862\n"
     ]
    }
   ],
   "source": [
    "best_model = AdaBoostRegressor().fit(x_train_fs ,y_train)\n",
    "y_pred = best_model.predict(x_test_fs)\n",
    "score = r2_score(y_test,y_pred)\n",
    "print(\"score before hyper parameter tuning is :{}\".format(score))"
   ]
  },
  {
   "cell_type": "code",
   "execution_count": 65,
   "id": "a1e2fc83",
   "metadata": {},
   "outputs": [],
   "source": [
    "adr = AdaBoostRegressor()"
   ]
  },
  {
   "cell_type": "code",
   "execution_count": 66,
   "id": "f804ccc5",
   "metadata": {
    "scrolled": true
   },
   "outputs": [],
   "source": [
    "parameter = {\"n_estimators\":[100,400,900],\n",
    "            'learning_rate':[0.01,0.02,0.03,0.04],\n",
    "            }"
   ]
  },
  {
   "cell_type": "code",
   "execution_count": 67,
   "id": "6b6a87d6",
   "metadata": {},
   "outputs": [],
   "source": [
    "grid_adr = GridSearchCV(estimator= adr ,param_grid=parameter,cv=2,n_jobs=-1,verbose=3)"
   ]
  },
  {
   "cell_type": "code",
   "execution_count": 68,
   "id": "d22afbe1",
   "metadata": {},
   "outputs": [
    {
     "name": "stdout",
     "output_type": "stream",
     "text": [
      "Fitting 2 folds for each of 12 candidates, totalling 24 fits\n"
     ]
    },
    {
     "data": {
      "text/plain": [
       "GridSearchCV(cv=2, estimator=AdaBoostRegressor(), n_jobs=-1,\n",
       "             param_grid={'learning_rate': [0.01, 0.02, 0.03, 0.04],\n",
       "                         'n_estimators': [100, 400, 900]},\n",
       "             verbose=3)"
      ]
     },
     "execution_count": 68,
     "metadata": {},
     "output_type": "execute_result"
    }
   ],
   "source": [
    "grid_adr.fit(x_train,y_train)"
   ]
  },
  {
   "cell_type": "code",
   "execution_count": 69,
   "id": "76f53260",
   "metadata": {},
   "outputs": [
    {
     "data": {
      "text/plain": [
       "{'learning_rate': 0.01, 'n_estimators': 900}"
      ]
     },
     "execution_count": 69,
     "metadata": {},
     "output_type": "execute_result"
    }
   ],
   "source": [
    "grid_adr.best_params_"
   ]
  },
  {
   "cell_type": "code",
   "execution_count": 70,
   "id": "83aac2e1",
   "metadata": {},
   "outputs": [],
   "source": [
    "grid_adr_tuned = AdaBoostRegressor(learning_rate=0.01,n_estimators=900)"
   ]
  },
  {
   "cell_type": "code",
   "execution_count": 71,
   "id": "5ed4d824",
   "metadata": {},
   "outputs": [
    {
     "data": {
      "text/plain": [
       "AdaBoostRegressor(learning_rate=0.01, n_estimators=900)"
      ]
     },
     "execution_count": 71,
     "metadata": {},
     "output_type": "execute_result"
    }
   ],
   "source": [
    "grid_adr_tuned.fit(x_train,y_train)"
   ]
  },
  {
   "cell_type": "code",
   "execution_count": 72,
   "id": "226cac4f",
   "metadata": {},
   "outputs": [],
   "source": [
    "y_pred_adr = grid_adr_tuned.predict(x_test)"
   ]
  },
  {
   "cell_type": "code",
   "execution_count": 73,
   "id": "0c4c0483",
   "metadata": {},
   "outputs": [
    {
     "name": "stdout",
     "output_type": "stream",
     "text": [
      "r2_score : 0.8739296969614309\n",
      "mae      : 991.0935638754253\n",
      "mse      : 1561146.7059779172\n",
      "rsme     : 1249.4585651304797\n"
     ]
    }
   ],
   "source": [
    "score = r2_score(y_test,y_pred_adr)\n",
    "mae = mean_absolute_error(y_test,y_pred_adr)\n",
    "mse = mean_squared_error(y_test,y_pred_adr)\n",
    "rsme = np.sqrt(mse)\n",
    "print('r2_score :',score)\n",
    "print('mae      :',mae)\n",
    "print('mse      :',mse)\n",
    "print('rsme     :',rsme)"
   ]
  },
  {
   "cell_type": "code",
   "execution_count": 74,
   "id": "3c783fcb",
   "metadata": {},
   "outputs": [],
   "source": [
    "predict_adr = grid_adr_tuned.predict(x)"
   ]
  },
  {
   "cell_type": "code",
   "execution_count": 75,
   "id": "16b175bd",
   "metadata": {},
   "outputs": [],
   "source": [
    "price_adr = data.Price.values"
   ]
  },
  {
   "cell_type": "code",
   "execution_count": 76,
   "id": "69db67a2",
   "metadata": {},
   "outputs": [],
   "source": [
    "PREDICT_ADR = pd.DataFrame(zip(predict_adr,price_adr),columns=(\"Actual\",\"Prediction\"))"
   ]
  },
  {
   "cell_type": "code",
   "execution_count": 77,
   "id": "648d588a",
   "metadata": {},
   "outputs": [
    {
     "data": {
      "text/html": [
       "<div>\n",
       "<style scoped>\n",
       "    .dataframe tbody tr th:only-of-type {\n",
       "        vertical-align: middle;\n",
       "    }\n",
       "\n",
       "    .dataframe tbody tr th {\n",
       "        vertical-align: top;\n",
       "    }\n",
       "\n",
       "    .dataframe thead th {\n",
       "        text-align: right;\n",
       "    }\n",
       "</style>\n",
       "<table border=\"1\" class=\"dataframe\">\n",
       "  <thead>\n",
       "    <tr style=\"text-align: right;\">\n",
       "      <th></th>\n",
       "      <th>Actual</th>\n",
       "      <th>Prediction</th>\n",
       "    </tr>\n",
       "  </thead>\n",
       "  <tbody>\n",
       "    <tr>\n",
       "      <th>0</th>\n",
       "      <td>16268.830508</td>\n",
       "      <td>13500</td>\n",
       "    </tr>\n",
       "    <tr>\n",
       "      <th>1</th>\n",
       "      <td>16267.444444</td>\n",
       "      <td>13750</td>\n",
       "    </tr>\n",
       "    <tr>\n",
       "      <th>2</th>\n",
       "      <td>16268.830508</td>\n",
       "      <td>13950</td>\n",
       "    </tr>\n",
       "    <tr>\n",
       "      <th>3</th>\n",
       "      <td>16268.830508</td>\n",
       "      <td>14950</td>\n",
       "    </tr>\n",
       "    <tr>\n",
       "      <th>4</th>\n",
       "      <td>16270.533333</td>\n",
       "      <td>13750</td>\n",
       "    </tr>\n",
       "  </tbody>\n",
       "</table>\n",
       "</div>"
      ],
      "text/plain": [
       "         Actual  Prediction\n",
       "0  16268.830508       13500\n",
       "1  16267.444444       13750\n",
       "2  16268.830508       13950\n",
       "3  16268.830508       14950\n",
       "4  16270.533333       13750"
      ]
     },
     "execution_count": 77,
     "metadata": {},
     "output_type": "execute_result"
    }
   ],
   "source": [
    "PREDICT_ADR.head()"
   ]
  },
  {
   "cell_type": "code",
   "execution_count": 78,
   "id": "90dd138c",
   "metadata": {},
   "outputs": [
    {
     "data": {
      "image/png": "[encoded data removed]",
      "text/plain": [
       "<Figure size 640x480 with 1 Axes>"
      ]
     },
     "metadata": {},
     "output_type": "display_data"
    }
   ],
   "source": [
    "sns.regplot(data=PREDICT_ADR,x ='Actual',y ='Prediction')\n",
    "plt.show()"
   ]
  },
  {
   "cell_type": "code",
   "execution_count": null,
   "id": "153f9f5a",
   "metadata": {},
   "outputs": [],
   "source": []
  }
 ],
 "metadata": {
  "kernelspec": {
   "display_name": "Python 3 (ipykernel)",
   "language": "python",
   "name": "python3"
  },
  "language_info": {
   "codemirror_mode": {
    "name": "ipython",
    "version": 3
   },
   "file_extension": ".py",
   "mimetype": "text/x-python",
   "name": "python",
   "nbconvert_exporter": "python",
   "pygments_lexer": "ipython3",
   "version": "3.9.13"
  }
 },
 "nbformat": 4,
 "nbformat_minor": 5
}
