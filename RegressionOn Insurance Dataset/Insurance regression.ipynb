{
 "cells": [
  {
   "cell_type": "code",
   "execution_count": 1,
   "id": "b70df17f",
   "metadata": {},
   "outputs": [],
   "source": [
    "import pandas as pd\n",
    "import numpy as np\n",
    "import matplotlib.pyplot as plt\n",
    "import seaborn as sns\n",
    "from sklearn.preprocessing import LabelEncoder\n",
    "from sklearn.preprocessing import StandardScaler\n",
    "from sklearn.model_selection import train_test_split\n",
    "from sklearn.linear_model import LinearRegression,Lasso,Ridge\n",
    "from sklearn.ensemble import AdaBoostRegressor,GradientBoostingRegressor,RandomForestRegressor\n",
    "from sklearn.svm import SVR,LinearSVR\n",
    "from sklearn.tree import DecisionTreeRegressor\n",
    "from sklearn.metrics import r2_score,mean_absolute_error,mean_squared_error\n",
    "import warnings\n",
    "warnings.filterwarnings('ignore')"
   ]
  },
  {
   "cell_type": "code",
   "execution_count": 2,
   "id": "4ea88ec9",
   "metadata": {},
   "outputs": [
    {
     "data": {
      "text/html": [
       "<div>\n",
       "<style scoped>\n",
       "    .dataframe tbody tr th:only-of-type {\n",
       "        vertical-align: middle;\n",
       "    }\n",
       "\n",
       "    .dataframe tbody tr th {\n",
       "        vertical-align: top;\n",
       "    }\n",
       "\n",
       "    .dataframe thead th {\n",
       "        text-align: right;\n",
       "    }\n",
       "</style>\n",
       "<table border=\"1\" class=\"dataframe\">\n",
       "  <thead>\n",
       "    <tr style=\"text-align: right;\">\n",
       "      <th></th>\n",
       "      <th>age</th>\n",
       "      <th>sex</th>\n",
       "      <th>bmi</th>\n",
       "      <th>children</th>\n",
       "      <th>smoker</th>\n",
       "      <th>region</th>\n",
       "      <th>charges</th>\n",
       "    </tr>\n",
       "  </thead>\n",
       "  <tbody>\n",
       "    <tr>\n",
       "      <th>0</th>\n",
       "      <td>19</td>\n",
       "      <td>female</td>\n",
       "      <td>27.900</td>\n",
       "      <td>0</td>\n",
       "      <td>yes</td>\n",
       "      <td>southwest</td>\n",
       "      <td>16884.92400</td>\n",
       "    </tr>\n",
       "    <tr>\n",
       "      <th>1</th>\n",
       "      <td>18</td>\n",
       "      <td>male</td>\n",
       "      <td>33.770</td>\n",
       "      <td>1</td>\n",
       "      <td>no</td>\n",
       "      <td>southeast</td>\n",
       "      <td>1725.55230</td>\n",
       "    </tr>\n",
       "    <tr>\n",
       "      <th>2</th>\n",
       "      <td>28</td>\n",
       "      <td>male</td>\n",
       "      <td>33.000</td>\n",
       "      <td>3</td>\n",
       "      <td>no</td>\n",
       "      <td>southeast</td>\n",
       "      <td>4449.46200</td>\n",
       "    </tr>\n",
       "    <tr>\n",
       "      <th>3</th>\n",
       "      <td>33</td>\n",
       "      <td>male</td>\n",
       "      <td>22.705</td>\n",
       "      <td>0</td>\n",
       "      <td>no</td>\n",
       "      <td>northwest</td>\n",
       "      <td>21984.47061</td>\n",
       "    </tr>\n",
       "    <tr>\n",
       "      <th>4</th>\n",
       "      <td>32</td>\n",
       "      <td>male</td>\n",
       "      <td>28.880</td>\n",
       "      <td>0</td>\n",
       "      <td>no</td>\n",
       "      <td>northwest</td>\n",
       "      <td>3866.85520</td>\n",
       "    </tr>\n",
       "    <tr>\n",
       "      <th>...</th>\n",
       "      <td>...</td>\n",
       "      <td>...</td>\n",
       "      <td>...</td>\n",
       "      <td>...</td>\n",
       "      <td>...</td>\n",
       "      <td>...</td>\n",
       "      <td>...</td>\n",
       "    </tr>\n",
       "    <tr>\n",
       "      <th>1333</th>\n",
       "      <td>50</td>\n",
       "      <td>male</td>\n",
       "      <td>30.970</td>\n",
       "      <td>3</td>\n",
       "      <td>no</td>\n",
       "      <td>northwest</td>\n",
       "      <td>10600.54830</td>\n",
       "    </tr>\n",
       "    <tr>\n",
       "      <th>1334</th>\n",
       "      <td>18</td>\n",
       "      <td>female</td>\n",
       "      <td>31.920</td>\n",
       "      <td>0</td>\n",
       "      <td>no</td>\n",
       "      <td>northeast</td>\n",
       "      <td>2205.98080</td>\n",
       "    </tr>\n",
       "    <tr>\n",
       "      <th>1335</th>\n",
       "      <td>18</td>\n",
       "      <td>female</td>\n",
       "      <td>36.850</td>\n",
       "      <td>0</td>\n",
       "      <td>no</td>\n",
       "      <td>southeast</td>\n",
       "      <td>1629.83350</td>\n",
       "    </tr>\n",
       "    <tr>\n",
       "      <th>1336</th>\n",
       "      <td>21</td>\n",
       "      <td>female</td>\n",
       "      <td>25.800</td>\n",
       "      <td>0</td>\n",
       "      <td>no</td>\n",
       "      <td>southwest</td>\n",
       "      <td>2007.94500</td>\n",
       "    </tr>\n",
       "    <tr>\n",
       "      <th>1337</th>\n",
       "      <td>61</td>\n",
       "      <td>female</td>\n",
       "      <td>29.070</td>\n",
       "      <td>0</td>\n",
       "      <td>yes</td>\n",
       "      <td>northwest</td>\n",
       "      <td>29141.36030</td>\n",
       "    </tr>\n",
       "  </tbody>\n",
       "</table>\n",
       "<p>1338 rows × 7 columns</p>\n",
       "</div>"
      ],
      "text/plain": [
       "      age     sex     bmi  children smoker     region      charges\n",
       "0      19  female  27.900         0    yes  southwest  16884.92400\n",
       "1      18    male  33.770         1     no  southeast   1725.55230\n",
       "2      28    male  33.000         3     no  southeast   4449.46200\n",
       "3      33    male  22.705         0     no  northwest  21984.47061\n",
       "4      32    male  28.880         0     no  northwest   3866.85520\n",
       "...   ...     ...     ...       ...    ...        ...          ...\n",
       "1333   50    male  30.970         3     no  northwest  10600.54830\n",
       "1334   18  female  31.920         0     no  northeast   2205.98080\n",
       "1335   18  female  36.850         0     no  southeast   1629.83350\n",
       "1336   21  female  25.800         0     no  southwest   2007.94500\n",
       "1337   61  female  29.070         0    yes  northwest  29141.36030\n",
       "\n",
       "[1338 rows x 7 columns]"
      ]
     },
     "execution_count": 2,
     "metadata": {},
     "output_type": "execute_result"
    }
   ],
   "source": [
    "data = pd.read_csv('./insurance.csv')\n",
    "data"
   ]
  },
  {
   "cell_type": "code",
   "execution_count": 3,
   "id": "5eaec25d",
   "metadata": {},
   "outputs": [
    {
     "name": "stdout",
     "output_type": "stream",
     "text": [
      "<class 'pandas.core.frame.DataFrame'>\n",
      "RangeIndex: 1338 entries, 0 to 1337\n",
      "Data columns (total 7 columns):\n",
      " #   Column    Non-Null Count  Dtype  \n",
      "---  ------    --------------  -----  \n",
      " 0   age       1338 non-null   int64  \n",
      " 1   sex       1338 non-null   object \n",
      " 2   bmi       1338 non-null   float64\n",
      " 3   children  1338 non-null   int64  \n",
      " 4   smoker    1338 non-null   object \n",
      " 5   region    1338 non-null   object \n",
      " 6   charges   1338 non-null   float64\n",
      "dtypes: float64(2), int64(2), object(3)\n",
      "memory usage: 73.3+ KB\n"
     ]
    }
   ],
   "source": [
    "data.info()"
   ]
  },
  {
   "cell_type": "code",
   "execution_count": 4,
   "id": "1d014cf7",
   "metadata": {},
   "outputs": [
    {
     "data": {
      "text/plain": [
       "(1338, 7)"
      ]
     },
     "execution_count": 4,
     "metadata": {},
     "output_type": "execute_result"
    }
   ],
   "source": [
    "data.shape"
   ]
  },
  {
   "cell_type": "code",
   "execution_count": 5,
   "id": "564f5e5e",
   "metadata": {},
   "outputs": [
    {
     "data": {
      "text/html": [
       "<div>\n",
       "<style scoped>\n",
       "    .dataframe tbody tr th:only-of-type {\n",
       "        vertical-align: middle;\n",
       "    }\n",
       "\n",
       "    .dataframe tbody tr th {\n",
       "        vertical-align: top;\n",
       "    }\n",
       "\n",
       "    .dataframe thead th {\n",
       "        text-align: right;\n",
       "    }\n",
       "</style>\n",
       "<table border=\"1\" class=\"dataframe\">\n",
       "  <thead>\n",
       "    <tr style=\"text-align: right;\">\n",
       "      <th></th>\n",
       "      <th>age</th>\n",
       "      <th>bmi</th>\n",
       "      <th>children</th>\n",
       "      <th>charges</th>\n",
       "    </tr>\n",
       "  </thead>\n",
       "  <tbody>\n",
       "    <tr>\n",
       "      <th>count</th>\n",
       "      <td>1338.000000</td>\n",
       "      <td>1338.000000</td>\n",
       "      <td>1338.000000</td>\n",
       "      <td>1338.000000</td>\n",
       "    </tr>\n",
       "    <tr>\n",
       "      <th>mean</th>\n",
       "      <td>39.207025</td>\n",
       "      <td>30.663397</td>\n",
       "      <td>1.094918</td>\n",
       "      <td>13270.422265</td>\n",
       "    </tr>\n",
       "    <tr>\n",
       "      <th>std</th>\n",
       "      <td>14.049960</td>\n",
       "      <td>6.098187</td>\n",
       "      <td>1.205493</td>\n",
       "      <td>12110.011237</td>\n",
       "    </tr>\n",
       "    <tr>\n",
       "      <th>min</th>\n",
       "      <td>18.000000</td>\n",
       "      <td>15.960000</td>\n",
       "      <td>0.000000</td>\n",
       "      <td>1121.873900</td>\n",
       "    </tr>\n",
       "    <tr>\n",
       "      <th>25%</th>\n",
       "      <td>27.000000</td>\n",
       "      <td>26.296250</td>\n",
       "      <td>0.000000</td>\n",
       "      <td>4740.287150</td>\n",
       "    </tr>\n",
       "    <tr>\n",
       "      <th>50%</th>\n",
       "      <td>39.000000</td>\n",
       "      <td>30.400000</td>\n",
       "      <td>1.000000</td>\n",
       "      <td>9382.033000</td>\n",
       "    </tr>\n",
       "    <tr>\n",
       "      <th>75%</th>\n",
       "      <td>51.000000</td>\n",
       "      <td>34.693750</td>\n",
       "      <td>2.000000</td>\n",
       "      <td>16639.912515</td>\n",
       "    </tr>\n",
       "    <tr>\n",
       "      <th>max</th>\n",
       "      <td>64.000000</td>\n",
       "      <td>53.130000</td>\n",
       "      <td>5.000000</td>\n",
       "      <td>63770.428010</td>\n",
       "    </tr>\n",
       "  </tbody>\n",
       "</table>\n",
       "</div>"
      ],
      "text/plain": [
       "               age          bmi     children       charges\n",
       "count  1338.000000  1338.000000  1338.000000   1338.000000\n",
       "mean     39.207025    30.663397     1.094918  13270.422265\n",
       "std      14.049960     6.098187     1.205493  12110.011237\n",
       "min      18.000000    15.960000     0.000000   1121.873900\n",
       "25%      27.000000    26.296250     0.000000   4740.287150\n",
       "50%      39.000000    30.400000     1.000000   9382.033000\n",
       "75%      51.000000    34.693750     2.000000  16639.912515\n",
       "max      64.000000    53.130000     5.000000  63770.428010"
      ]
     },
     "execution_count": 5,
     "metadata": {},
     "output_type": "execute_result"
    }
   ],
   "source": [
    "data.describe()"
   ]
  },
  {
   "cell_type": "code",
   "execution_count": 6,
   "id": "d4ca8b52",
   "metadata": {},
   "outputs": [
    {
     "data": {
      "text/plain": [
       "age         0.0\n",
       "sex         0.0\n",
       "bmi         0.0\n",
       "children    0.0\n",
       "smoker      0.0\n",
       "region      0.0\n",
       "charges     0.0\n",
       "dtype: float64"
      ]
     },
     "execution_count": 6,
     "metadata": {},
     "output_type": "execute_result"
    }
   ],
   "source": [
    "data.isnull().mean()*100"
   ]
  },
  {
   "cell_type": "code",
   "execution_count": 7,
   "id": "edb34e7d",
   "metadata": {},
   "outputs": [
    {
     "data": {
      "text/plain": [
       "1"
      ]
     },
     "execution_count": 7,
     "metadata": {},
     "output_type": "execute_result"
    }
   ],
   "source": [
    "data.duplicated().sum()"
   ]
  },
  {
   "cell_type": "code",
   "execution_count": 8,
   "id": "a31faeb7",
   "metadata": {},
   "outputs": [],
   "source": [
    "data.drop_duplicates(inplace= True)"
   ]
  },
  {
   "cell_type": "code",
   "execution_count": 9,
   "id": "cf0ed391",
   "metadata": {},
   "outputs": [
    {
     "data": {
      "text/plain": [
       "Index(['age', 'sex', 'bmi', 'children', 'smoker', 'region', 'charges'], dtype='object')"
      ]
     },
     "execution_count": 9,
     "metadata": {},
     "output_type": "execute_result"
    }
   ],
   "source": [
    "data.columns"
   ]
  },
  {
   "cell_type": "markdown",
   "id": "57bb759b",
   "metadata": {},
   "source": [
    "### <I> UNIVARIATE DATASET"
   ]
  },
  {
   "cell_type": "code",
   "execution_count": 10,
   "id": "e54e71ab",
   "metadata": {},
   "outputs": [
    {
     "data": {
      "image/png": "[encoded data removed]",
      "text/plain": [
       "<Figure size 640x480 with 1 Axes>"
      ]
     },
     "metadata": {},
     "output_type": "display_data"
    },
    {
     "data": {
      "image/png": "[encoded data removed]",
      "text/plain": [
       "<Figure size 640x480 with 1 Axes>"
      ]
     },
     "metadata": {},
     "output_type": "display_data"
    },
    {
     "data": {
      "image/png": "[encoded data removed]",
      "text/plain": [
       "<Figure size 640x480 with 1 Axes>"
      ]
     },
     "metadata": {},
     "output_type": "display_data"
    },
    {
     "data": {
      "image/png": "[encoded data removed]",
      "text/plain": [
       "<Figure size 640x480 with 1 Axes>"
      ]
     },
     "metadata": {},
     "output_type": "display_data"
    }
   ],
   "source": [
    "for i in data.columns:\n",
    "    if data[i].dtype != 'object':\n",
    "        sns.histplot(data = data[i],kde = True,color= 'green')\n",
    "        plt.show()"
   ]
  },
  {
   "cell_type": "code",
   "execution_count": 11,
   "id": "24d906ce",
   "metadata": {},
   "outputs": [
    {
     "data": {
      "image/png": "[encoded data removed]",
      "text/plain": [
       "<Figure size 640x480 with 1 Axes>"
      ]
     },
     "metadata": {},
     "output_type": "display_data"
    },
    {
     "data": {
      "image/png": "[encoded data removed]",
      "text/plain": [
       "<Figure size 640x480 with 1 Axes>"
      ]
     },
     "metadata": {},
     "output_type": "display_data"
    },
    {
     "data": {
      "image/png": "[encoded data removed]",
      "text/plain": [
       "<Figure size 640x480 with 1 Axes>"
      ]
     },
     "metadata": {},
     "output_type": "display_data"
    },
    {
     "data": {
      "image/png": "[encoded data removed]",
      "text/plain": [
       "<Figure size 640x480 with 1 Axes>"
      ]
     },
     "metadata": {},
     "output_type": "display_data"
    }
   ],
   "source": [
    "for i in data.columns:\n",
    "    if data[i].dtype != 'object':\n",
    "        sns.boxplot(y = data[i],color= 'green')\n",
    "        plt.show()"
   ]
  },
  {
   "cell_type": "markdown",
   "id": "44553bc5",
   "metadata": {},
   "source": [
    "### <i> Outlier treatment on bmi and Charges"
   ]
  },
  {
   "cell_type": "code",
   "execution_count": 12,
   "id": "5aee28ab",
   "metadata": {},
   "outputs": [],
   "source": [
    "b_list = ['bmi','charges']"
   ]
  },
  {
   "cell_type": "code",
   "execution_count": 54,
   "id": "ee403723",
   "metadata": {},
   "outputs": [],
   "source": [
    "def outlier_limit(b_list):\n",
    "    Q3,Q1=np.nanpercentile(b_list,[75,25])\n",
    "    IQR = Q3-Q1\n",
    "    UL = Q3+1.5*IQR\n",
    "    LL = Q1-1.5*IQR\n",
    "    return UL,LL"
   ]
  },
  {
   "cell_type": "code",
   "execution_count": 55,
   "id": "f127a439",
   "metadata": {},
   "outputs": [],
   "source": [
    "for i in b_list:\n",
    "    UL,LL = outlier_limit(data[i])\n",
    "    data[i] = np.where((data[i]>UL) | (data[i]<LL),np.nan, data[i])"
   ]
  },
  {
   "cell_type": "code",
   "execution_count": 56,
   "id": "eaf795b8",
   "metadata": {},
   "outputs": [
    {
     "data": {
      "image/png": "[encoded data removed]",
      "text/plain": [
       "<Figure size 640x480 with 1 Axes>"
      ]
     },
     "metadata": {},
     "output_type": "display_data"
    },
    {
     "data": {
      "image/png": "[encoded data removed]",
      "text/plain": [
       "<Figure size 640x480 with 1 Axes>"
      ]
     },
     "metadata": {},
     "output_type": "display_data"
    }
   ],
   "source": [
    "for i in b_list:\n",
    "    sns.boxplot(y = data[i])\n",
    "    plt.show()"
   ]
  },
  {
   "cell_type": "code",
   "execution_count": 57,
   "id": "11d8f03f",
   "metadata": {},
   "outputs": [],
   "source": [
    "data.dropna(inplace=True)"
   ]
  },
  {
   "cell_type": "markdown",
   "id": "25a5597c",
   "metadata": {},
   "source": [
    "### <i>Multivariant Analysis"
   ]
  },
  {
   "cell_type": "code",
   "execution_count": 58,
   "id": "f627761e",
   "metadata": {},
   "outputs": [
    {
     "data": {
      "image/png": "[encoded data removed]",
      "text/plain": [
       "<Figure size 640x480 with 2 Axes>"
      ]
     },
     "metadata": {},
     "output_type": "display_data"
    }
   ],
   "source": [
    "sns.heatmap(data.corr()[['bmi']].sort_values(by= 'bmi',ascending = False),vmax= 1,vmin = 1,annot = True,cmap= 'Pastel2_r')\n",
    "plt.show()"
   ]
  },
  {
   "cell_type": "code",
   "execution_count": 59,
   "id": "64664808",
   "metadata": {},
   "outputs": [
    {
     "data": {
      "image/png": "[encoded data removed]",
      "text/plain": [
       "<Figure size 640x480 with 2 Axes>"
      ]
     },
     "metadata": {},
     "output_type": "display_data"
    }
   ],
   "source": [
    "sns.heatmap(data.corr()[['charges']].sort_values(by= 'charges',ascending = False),vmax= 1,vmin = 1,annot = True,cmap= 'ocean')\n",
    "plt.show()"
   ]
  },
  {
   "cell_type": "code",
   "execution_count": 60,
   "id": "0164b293",
   "metadata": {},
   "outputs": [
    {
     "data": {
      "image/png": "[encoded data removed]",
      "text/plain": [
       "<Figure size 640x480 with 2 Axes>"
      ]
     },
     "metadata": {},
     "output_type": "display_data"
    }
   ],
   "source": [
    "sns.heatmap(data.corr()[['age']].sort_values(by= 'age',ascending = False),vmax= 1,vmin = 1,annot = True,cmap= 'Pastel2_r')\n",
    "plt.show()"
   ]
  },
  {
   "cell_type": "markdown",
   "id": "0b2eebbc",
   "metadata": {},
   "source": [
    "### <i>Reorder dataframe columns using reindex"
   ]
  },
  {
   "cell_type": "code",
   "execution_count": 61,
   "id": "e15cddcf",
   "metadata": {},
   "outputs": [
    {
     "data": {
      "text/html": [
       "<div>\n",
       "<style scoped>\n",
       "    .dataframe tbody tr th:only-of-type {\n",
       "        vertical-align: middle;\n",
       "    }\n",
       "\n",
       "    .dataframe tbody tr th {\n",
       "        vertical-align: top;\n",
       "    }\n",
       "\n",
       "    .dataframe thead th {\n",
       "        text-align: right;\n",
       "    }\n",
       "</style>\n",
       "<table border=\"1\" class=\"dataframe\">\n",
       "  <thead>\n",
       "    <tr style=\"text-align: right;\">\n",
       "      <th></th>\n",
       "      <th>sex</th>\n",
       "      <th>children</th>\n",
       "      <th>smoker</th>\n",
       "      <th>region</th>\n",
       "      <th>bmi</th>\n",
       "      <th>age</th>\n",
       "      <th>charges</th>\n",
       "    </tr>\n",
       "  </thead>\n",
       "  <tbody>\n",
       "    <tr>\n",
       "      <th>0</th>\n",
       "      <td>female</td>\n",
       "      <td>0</td>\n",
       "      <td>yes</td>\n",
       "      <td>southwest</td>\n",
       "      <td>27.900</td>\n",
       "      <td>19</td>\n",
       "      <td>16884.92400</td>\n",
       "    </tr>\n",
       "    <tr>\n",
       "      <th>1</th>\n",
       "      <td>male</td>\n",
       "      <td>1</td>\n",
       "      <td>no</td>\n",
       "      <td>southeast</td>\n",
       "      <td>33.770</td>\n",
       "      <td>18</td>\n",
       "      <td>1725.55230</td>\n",
       "    </tr>\n",
       "    <tr>\n",
       "      <th>2</th>\n",
       "      <td>male</td>\n",
       "      <td>3</td>\n",
       "      <td>no</td>\n",
       "      <td>southeast</td>\n",
       "      <td>33.000</td>\n",
       "      <td>28</td>\n",
       "      <td>4449.46200</td>\n",
       "    </tr>\n",
       "    <tr>\n",
       "      <th>3</th>\n",
       "      <td>male</td>\n",
       "      <td>0</td>\n",
       "      <td>no</td>\n",
       "      <td>northwest</td>\n",
       "      <td>22.705</td>\n",
       "      <td>33</td>\n",
       "      <td>21984.47061</td>\n",
       "    </tr>\n",
       "    <tr>\n",
       "      <th>4</th>\n",
       "      <td>male</td>\n",
       "      <td>0</td>\n",
       "      <td>no</td>\n",
       "      <td>northwest</td>\n",
       "      <td>28.880</td>\n",
       "      <td>32</td>\n",
       "      <td>3866.85520</td>\n",
       "    </tr>\n",
       "    <tr>\n",
       "      <th>...</th>\n",
       "      <td>...</td>\n",
       "      <td>...</td>\n",
       "      <td>...</td>\n",
       "      <td>...</td>\n",
       "      <td>...</td>\n",
       "      <td>...</td>\n",
       "      <td>...</td>\n",
       "    </tr>\n",
       "    <tr>\n",
       "      <th>1332</th>\n",
       "      <td>female</td>\n",
       "      <td>3</td>\n",
       "      <td>no</td>\n",
       "      <td>southwest</td>\n",
       "      <td>44.700</td>\n",
       "      <td>52</td>\n",
       "      <td>11411.68500</td>\n",
       "    </tr>\n",
       "    <tr>\n",
       "      <th>1333</th>\n",
       "      <td>male</td>\n",
       "      <td>3</td>\n",
       "      <td>no</td>\n",
       "      <td>northwest</td>\n",
       "      <td>30.970</td>\n",
       "      <td>50</td>\n",
       "      <td>10600.54830</td>\n",
       "    </tr>\n",
       "    <tr>\n",
       "      <th>1334</th>\n",
       "      <td>female</td>\n",
       "      <td>0</td>\n",
       "      <td>no</td>\n",
       "      <td>northeast</td>\n",
       "      <td>31.920</td>\n",
       "      <td>18</td>\n",
       "      <td>2205.98080</td>\n",
       "    </tr>\n",
       "    <tr>\n",
       "      <th>1335</th>\n",
       "      <td>female</td>\n",
       "      <td>0</td>\n",
       "      <td>no</td>\n",
       "      <td>southeast</td>\n",
       "      <td>36.850</td>\n",
       "      <td>18</td>\n",
       "      <td>1629.83350</td>\n",
       "    </tr>\n",
       "    <tr>\n",
       "      <th>1336</th>\n",
       "      <td>female</td>\n",
       "      <td>0</td>\n",
       "      <td>no</td>\n",
       "      <td>southwest</td>\n",
       "      <td>25.800</td>\n",
       "      <td>21</td>\n",
       "      <td>2007.94500</td>\n",
       "    </tr>\n",
       "  </tbody>\n",
       "</table>\n",
       "<p>1102 rows × 7 columns</p>\n",
       "</div>"
      ],
      "text/plain": [
       "         sex  children smoker     region     bmi  age      charges\n",
       "0     female         0    yes  southwest  27.900   19  16884.92400\n",
       "1       male         1     no  southeast  33.770   18   1725.55230\n",
       "2       male         3     no  southeast  33.000   28   4449.46200\n",
       "3       male         0     no  northwest  22.705   33  21984.47061\n",
       "4       male         0     no  northwest  28.880   32   3866.85520\n",
       "...      ...       ...    ...        ...     ...  ...          ...\n",
       "1332  female         3     no  southwest  44.700   52  11411.68500\n",
       "1333    male         3     no  northwest  30.970   50  10600.54830\n",
       "1334  female         0     no  northeast  31.920   18   2205.98080\n",
       "1335  female         0     no  southeast  36.850   18   1629.83350\n",
       "1336  female         0     no  southwest  25.800   21   2007.94500\n",
       "\n",
       "[1102 rows x 7 columns]"
      ]
     },
     "execution_count": 61,
     "metadata": {},
     "output_type": "execute_result"
    }
   ],
   "source": [
    "df = data.reindex(columns=['sex', 'children', 'smoker', 'region','bmi', 'age', 'charges'])\n",
    "df"
   ]
  },
  {
   "cell_type": "markdown",
   "id": "cc86cdab",
   "metadata": {},
   "source": [
    "### <i> Selecting Target"
   ]
  },
  {
   "cell_type": "code",
   "execution_count": 62,
   "id": "ab680373",
   "metadata": {},
   "outputs": [
    {
     "data": {
      "text/plain": [
       "array([[27.9 , 19.  ],\n",
       "       [33.77, 18.  ],\n",
       "       [33.  , 28.  ],\n",
       "       ...,\n",
       "       [31.92, 18.  ],\n",
       "       [36.85, 18.  ],\n",
       "       [25.8 , 21.  ]])"
      ]
     },
     "execution_count": 62,
     "metadata": {},
     "output_type": "execute_result"
    }
   ],
   "source": [
    "x = df.iloc[:,4:-1].values\n",
    "x"
   ]
  },
  {
   "cell_type": "code",
   "execution_count": 63,
   "id": "37566327",
   "metadata": {},
   "outputs": [
    {
     "data": {
      "text/plain": [
       "array([16884.924 ,  1725.5523,  4449.462 , ...,  2205.9808,  1629.8335,\n",
       "        2007.945 ])"
      ]
     },
     "execution_count": 63,
     "metadata": {},
     "output_type": "execute_result"
    }
   ],
   "source": [
    "y = df.iloc[:,-1].values\n",
    "y"
   ]
  },
  {
   "cell_type": "markdown",
   "id": "bdaeea57",
   "metadata": {},
   "source": [
    "### <i>Intialising standard scaler"
   ]
  },
  {
   "cell_type": "code",
   "execution_count": 64,
   "id": "77ac3ba4",
   "metadata": {},
   "outputs": [],
   "source": [
    "sc = StandardScaler()"
   ]
  },
  {
   "cell_type": "code",
   "execution_count": 65,
   "id": "58a82b1d",
   "metadata": {},
   "outputs": [
    {
     "data": {
      "text/plain": [
       "array([[-0.35242021, -1.40361718],\n",
       "       [ 0.65597516, -1.47573178],\n",
       "       [ 0.52369842, -0.75458575],\n",
       "       ...,\n",
       "       [ 0.33816742, -1.47573178],\n",
       "       [ 1.1850821 , -1.47573178],\n",
       "       [-0.71317494, -1.25938797]])"
      ]
     },
     "execution_count": 65,
     "metadata": {},
     "output_type": "execute_result"
    }
   ],
   "source": [
    "sc_fit = sc.fit_transform(x)\n",
    "sc_fit"
   ]
  },
  {
   "cell_type": "markdown",
   "id": "3b776f45",
   "metadata": {},
   "source": [
    "### <i><u>Spliting data into training and testing"
   ]
  },
  {
   "cell_type": "code",
   "execution_count": 66,
   "id": "c6188637",
   "metadata": {},
   "outputs": [],
   "source": [
    "x_train,x_test,y_train,y_test = train_test_split(x,y,test_size=0.2,random_state=42,shuffle= True)"
   ]
  },
  {
   "cell_type": "code",
   "execution_count": 67,
   "id": "ce6b4fea",
   "metadata": {},
   "outputs": [
    {
     "data": {
      "text/plain": [
       "(221, 2)"
      ]
     },
     "execution_count": 67,
     "metadata": {},
     "output_type": "execute_result"
    }
   ],
   "source": [
    "x_test.shape"
   ]
  },
  {
   "cell_type": "markdown",
   "id": "f520c3e2",
   "metadata": {},
   "source": [
    "### <i> Model Building"
   ]
  },
  {
   "cell_type": "code",
   "execution_count": 68,
   "id": "471ce20b",
   "metadata": {},
   "outputs": [],
   "source": [
    "models = {\n",
    "    'LinearRegression':LinearRegression(),\n",
    "    'Ridge':Ridge(),\n",
    "    'Lasso':Lasso(),\n",
    "    'LinearSVR':LinearSVR(),\n",
    "    'DecisionTreeRegressor':DecisionTreeRegressor(),\n",
    "    'GradientBoostingRegressor':GradientBoostingRegressor(),\n",
    "    'AdaBoostingRegressor':AdaBoostRegressor(),\n",
    "    'RandomForestRegressor':RandomForestRegressor(random_state = 0)\n",
    "}"
   ]
  },
  {
   "cell_type": "code",
   "execution_count": 69,
   "id": "6e8a714e",
   "metadata": {},
   "outputs": [
    {
     "name": "stdout",
     "output_type": "stream",
     "text": [
      "Model Training with LinearRegression\n",
      "r2_score 32.38492284261278\n",
      "trainingscore 27.794578838156482\n",
      "testigscore 32.38492284261278\n",
      "score 32.38492284261278\n",
      "mean_absolute_error 2862.934797265097\n",
      "mean_squared_error 17464329.57064932\n",
      "rsme 4179.034526137505\n",
      "****************************************************************************************************\n",
      "Model Training with Ridge\n",
      "r2_score 32.3848771321096\n",
      "trainingscore 27.794578835050277\n",
      "testigscore 32.3848771321096\n",
      "score 32.3848771321096\n",
      "mean_absolute_error 2862.9353874638755\n",
      "mean_squared_error 17464341.377236344\n",
      "rsme 4179.035938734715\n",
      "****************************************************************************************************\n",
      "Model Training with Lasso\n",
      "r2_score 32.38455742836746\n",
      "trainingscore 27.794578711894758\n",
      "testigscore 32.38455742836746\n",
      "score 32.38455742836746\n",
      "mean_absolute_error 2862.9313851590755\n",
      "mean_squared_error 17464423.953663856\n",
      "rsme 4179.04581856479\n",
      "****************************************************************************************************\n",
      "Model Training with LinearSVR\n",
      "r2_score 21.360210030727632\n",
      "trainingscore 17.945724715858034\n",
      "testigscore 21.360210030727632\n",
      "score 21.360210030727632\n",
      "mean_absolute_error 2261.292291384942\n",
      "mean_squared_error 20311907.744972035\n",
      "rsme 4506.873389054993\n",
      "****************************************************************************************************\n",
      "Model Training with DecisionTreeRegressor\n",
      "r2_score -66.60753428450532\n",
      "trainingscore 99.66657773681914\n",
      "testigscore -66.60753428450532\n",
      "score -66.60753428450532\n",
      "mean_absolute_error 3712.6799043846154\n",
      "mean_squared_error 43033137.13485812\n",
      "rsme 6559.964720549808\n",
      "****************************************************************************************************\n",
      "Model Training with GradientBoostingRegressor\n",
      "r2_score 25.88955148461781\n",
      "trainingscore 50.994898467246244\n",
      "testigscore 25.88955148461781\n",
      "score 25.88955148461781\n",
      "mean_absolute_error 2953.7579182489217\n",
      "mean_squared_error 19142022.044707034\n",
      "rsme 4375.159659338963\n",
      "****************************************************************************************************\n",
      "Model Training with AdaBoostingRegressor\n",
      "r2_score 20.5514037441352\n",
      "trainingscore 27.004628118145625\n",
      "testigscore 20.5514037441352\n",
      "score 20.5514037441352\n",
      "mean_absolute_error 3477.135045458712\n",
      "mean_squared_error 20520814.695044488\n",
      "rsme 4529.990584432211\n",
      "****************************************************************************************************\n",
      "Model Training with RandomForestRegressor\n",
      "r2_score 6.7753317254259375\n",
      "trainingscore 87.3855179930191\n",
      "testigscore 6.7753317254259375\n",
      "score 6.7753317254259375\n",
      "mean_absolute_error 3193.1753194371713\n",
      "mean_squared_error 24079042.71220284\n",
      "rsme 4907.040117240009\n",
      "****************************************************************************************************\n"
     ]
    }
   ],
   "source": [
    "for name,model in models.items():\n",
    "    model.fit(x_train,y_train)\n",
    "    print(\"Model Training with {}\".format(name))\n",
    "    trainingscore = model.score(x_train,y_train)*100\n",
    "    testigscore   = model.score(x_test,y_test)*100\n",
    "    score         = r2_score(y_test,model.predict(x_test))*100\n",
    "    mae           = mean_absolute_error(y_test,model.predict(x_test))\n",
    "    mse           = mean_squared_error(y_test,model.predict(x_test))\n",
    "    rsme          = np.sqrt(mse)\n",
    "    print('r2_score',score)\n",
    "    print('trainingscore',trainingscore)\n",
    "    print('testigscore',testigscore)\n",
    "    print('score',score)\n",
    "    print('mean_absolute_error',mae)\n",
    "    print('mean_squared_error',mse)\n",
    "    print('rsme',rsme)\n",
    "    print(\"*\" *100)"
   ]
  },
  {
   "cell_type": "markdown",
   "id": "20f774cf",
   "metadata": {},
   "source": [
    "###  Regression based on Age and charge"
   ]
  },
  {
   "cell_type": "markdown",
   "id": "dd50645b",
   "metadata": {},
   "source": [
    "### <i> Selecting Target "
   ]
  },
  {
   "cell_type": "code",
   "execution_count": 70,
   "id": "fd2db01c",
   "metadata": {},
   "outputs": [
    {
     "data": {
      "text/plain": [
       "array([[19],\n",
       "       [18],\n",
       "       [28],\n",
       "       ...,\n",
       "       [18],\n",
       "       [18],\n",
       "       [21]], dtype=int64)"
      ]
     },
     "execution_count": 70,
     "metadata": {},
     "output_type": "execute_result"
    }
   ],
   "source": [
    "x = df.iloc[:,5:-1].values\n",
    "x"
   ]
  },
  {
   "cell_type": "code",
   "execution_count": 71,
   "id": "8f758141",
   "metadata": {},
   "outputs": [
    {
     "data": {
      "text/plain": [
       "array([16884.924 ,  1725.5523,  4449.462 , ...,  2205.9808,  1629.8335,\n",
       "        2007.945 ])"
      ]
     },
     "execution_count": 71,
     "metadata": {},
     "output_type": "execute_result"
    }
   ],
   "source": [
    "y = df.iloc[:,-1].values\n",
    "y"
   ]
  },
  {
   "cell_type": "code",
   "execution_count": 72,
   "id": "866f6773",
   "metadata": {},
   "outputs": [],
   "source": [
    "sc = StandardScaler()"
   ]
  },
  {
   "cell_type": "code",
   "execution_count": 73,
   "id": "00c552fa",
   "metadata": {},
   "outputs": [
    {
     "data": {
      "text/plain": [
       "array([[-1.40361718],\n",
       "       [-1.47573178],\n",
       "       [-0.75458575],\n",
       "       ...,\n",
       "       [-1.47573178],\n",
       "       [-1.47573178],\n",
       "       [-1.25938797]])"
      ]
     },
     "execution_count": 73,
     "metadata": {},
     "output_type": "execute_result"
    }
   ],
   "source": [
    "sc_fit = sc.fit_transform(x)\n",
    "sc_fit"
   ]
  },
  {
   "cell_type": "code",
   "execution_count": 74,
   "id": "678c23ea",
   "metadata": {},
   "outputs": [],
   "source": [
    "x_train,x_test,y_train,y_test = train_test_split(x,y,test_size=0.2,random_state=42,shuffle= True)"
   ]
  },
  {
   "cell_type": "code",
   "execution_count": 75,
   "id": "a62f95bc",
   "metadata": {},
   "outputs": [
    {
     "data": {
      "text/plain": [
       "(221, 1)"
      ]
     },
     "execution_count": 75,
     "metadata": {},
     "output_type": "execute_result"
    }
   ],
   "source": [
    "x_test.shape"
   ]
  },
  {
   "cell_type": "code",
   "execution_count": 76,
   "id": "8fbe0054",
   "metadata": {},
   "outputs": [],
   "source": [
    "LR_model = LinearRegression() ## model building  "
   ]
  },
  {
   "cell_type": "code",
   "execution_count": 77,
   "id": "a74ac0ae",
   "metadata": {},
   "outputs": [
    {
     "data": {
      "text/plain": [
       "LinearRegression()"
      ]
     },
     "execution_count": 77,
     "metadata": {},
     "output_type": "execute_result"
    }
   ],
   "source": [
    "LR_model.fit(x_train,y_train)"
   ]
  },
  {
   "cell_type": "code",
   "execution_count": 78,
   "id": "16e6ce89",
   "metadata": {},
   "outputs": [],
   "source": [
    "y_pred = LR_model.predict(x_test)"
   ]
  },
  {
   "cell_type": "code",
   "execution_count": 79,
   "id": "dba0d788",
   "metadata": {},
   "outputs": [
    {
     "data": {
      "text/plain": [
       "array([ 6274.58523197,  6480.39121461,  4628.13737086,  4628.13737086,\n",
       "        9979.09291948, 10596.5108674 ,  4422.33138822, 10390.70488476,\n",
       "       11213.92881531, 11419.73479795,  4422.33138822, 12037.15274587,\n",
       "        5862.97326669,  5039.74933614, 13889.40658962,  6686.19719725,\n",
       "        4628.13737086, 13889.40658962,  4422.33138822,  7921.03309309,\n",
       "       13477.79462434,  4628.13737086,  8538.451041  ,  9979.09291948,\n",
       "       11831.34676323,  6686.19719725, 11625.54078059,  7097.80916253,\n",
       "        5039.74933614, 10596.5108674 , 11831.34676323,  6274.58523197,\n",
       "       10390.70488476, 12242.95872851, 11831.34676323, 13477.79462434,\n",
       "        6480.39121461,  5039.74933614,  7715.22711045, 12654.57069379,\n",
       "        4628.13737086,  8538.451041  , 12242.95872851, 10596.5108674 ,\n",
       "        7509.42112781, 10802.31685003,  4833.9433535 ,  7509.42112781,\n",
       "        6480.39121461,  5451.36130141,  8950.06300628,  7303.61514517,\n",
       "        8744.25702364,  8950.06300628,  4422.33138822, 11625.54078059,\n",
       "       12242.95872851, 12242.95872851, 10596.5108674 , 13271.9886417 ,\n",
       "        9361.67497156, 13683.60060698, 13271.9886417 , 13271.9886417 ,\n",
       "       12448.76471115, 11213.92881531,  7303.61514517,  4422.33138822,\n",
       "        4628.13737086, 10802.31685003,  7097.80916253,  6686.19719725,\n",
       "       11419.73479795, 12037.15274587,  4833.9433535 ,  7509.42112781,\n",
       "        8744.25702364, 12242.95872851, 12448.76471115,  7509.42112781,\n",
       "        8538.451041  ,  6892.00317989, 12654.57069379,  6892.00317989,\n",
       "       12654.57069379, 13477.79462434, 11008.12283267,  5451.36130141,\n",
       "        9361.67497156, 11008.12283267,  7509.42112781, 11213.92881531,\n",
       "        7715.22711045,  6274.58523197,  5657.16728405, 11213.92881531,\n",
       "        6686.19719725, 13066.18265907,  7715.22711045, 11213.92881531,\n",
       "       10390.70488476,  4628.13737086, 12448.76471115,  9361.67497156,\n",
       "       13477.79462434,  9773.28693684,  5657.16728405,  7097.80916253,\n",
       "        5657.16728405,  9361.67497156,  5451.36130141,  9979.09291948,\n",
       "        5862.97326669,  8744.25702364, 12037.15274587,  9979.09291948,\n",
       "        8950.06300628,  9773.28693684, 12037.15274587,  4833.9433535 ,\n",
       "        6892.00317989, 12242.95872851, 11213.92881531,  8126.83907572,\n",
       "        7303.61514517, 11008.12283267,  7921.03309309, 13066.18265907,\n",
       "       11625.54078059, 10596.5108674 , 12037.15274587, 13889.40658962,\n",
       "        4422.33138822,  5451.36130141,  4422.33138822,  7509.42112781,\n",
       "        8126.83907572, 10802.31685003,  8126.83907572, 10802.31685003,\n",
       "       12037.15274587,  7303.61514517,  4422.33138822, 10390.70488476,\n",
       "        4833.9433535 , 10596.5108674 , 13066.18265907,  7715.22711045,\n",
       "        6686.19719725,  6480.39121461, 13271.9886417 ,  7303.61514517,\n",
       "        4422.33138822,  7921.03309309,  4628.13737086,  4628.13737086,\n",
       "        8538.451041  ,  8950.06300628, 10596.5108674 ,  6892.00317989,\n",
       "       13271.9886417 , 11213.92881531, 11419.73479795,  4422.33138822,\n",
       "        5657.16728405,  9567.4809542 ,  4628.13737086,  6274.58523197,\n",
       "        4833.9433535 , 13271.9886417 ,  6068.77924933, 11419.73479795,\n",
       "        9567.4809542 ,  9361.67497156,  7509.42112781, 11213.92881531,\n",
       "        7715.22711045,  6480.39121461,  4422.33138822, 13889.40658962,\n",
       "        7715.22711045,  7097.80916253,  9773.28693684,  9155.86898892,\n",
       "        6274.58523197,  8950.06300628, 12242.95872851,  4628.13737086,\n",
       "       13066.18265907, 12860.37667643, 13066.18265907,  6686.19719725,\n",
       "        8744.25702364,  6480.39121461,  4422.33138822,  5862.97326669,\n",
       "        5862.97326669,  7303.61514517,  4628.13737086,  4422.33138822,\n",
       "       10596.5108674 ,  6480.39121461,  9979.09291948, 12242.95872851,\n",
       "        4628.13737086,  9361.67497156, 10802.31685003, 11008.12283267,\n",
       "        5039.74933614,  4628.13737086,  5039.74933614,  7715.22711045,\n",
       "       11419.73479795,  9567.4809542 ,  5245.55531878, 13271.9886417 ,\n",
       "        4422.33138822, 10184.89890212,  9155.86898892, 13683.60060698,\n",
       "        4422.33138822])"
      ]
     },
     "execution_count": 79,
     "metadata": {},
     "output_type": "execute_result"
    }
   ],
   "source": [
    "y_pred"
   ]
  },
  {
   "cell_type": "code",
   "execution_count": 82,
   "id": "a435e8f1",
   "metadata": {},
   "outputs": [
    {
     "data": {
      "text/plain": [
       "0.290254770975064"
      ]
     },
     "execution_count": 82,
     "metadata": {},
     "output_type": "execute_result"
    }
   ],
   "source": [
    "r2_score(y_test,y_pred)"
   ]
  },
  {
   "cell_type": "code",
   "execution_count": 80,
   "id": "f4272365",
   "metadata": {},
   "outputs": [
    {
     "data": {
      "text/plain": [
       "0.2625333540179483"
      ]
     },
     "execution_count": 80,
     "metadata": {},
     "output_type": "execute_result"
    }
   ],
   "source": [
    "LR_model.score(x_train,y_train)"
   ]
  },
  {
   "cell_type": "code",
   "execution_count": 81,
   "id": "af153545",
   "metadata": {},
   "outputs": [
    {
     "data": {
      "text/plain": [
       "0.290254770975064"
      ]
     },
     "execution_count": 81,
     "metadata": {},
     "output_type": "execute_result"
    }
   ],
   "source": [
    "LR_model.score(x_test,y_test)"
   ]
  },
  {
   "cell_type": "code",
   "execution_count": 83,
   "id": "6190e0e5",
   "metadata": {},
   "outputs": [
    {
     "data": {
      "text/plain": [
       "2893.234072404624"
      ]
     },
     "execution_count": 83,
     "metadata": {},
     "output_type": "execute_result"
    }
   ],
   "source": [
    "mean_absolute_error(y_test,y_pred)"
   ]
  },
  {
   "cell_type": "code",
   "execution_count": 84,
   "id": "a78a2e24",
   "metadata": {},
   "outputs": [
    {
     "data": {
      "text/plain": [
       "18332042.366875026"
      ]
     },
     "execution_count": 84,
     "metadata": {},
     "output_type": "execute_result"
    }
   ],
   "source": [
    "mean_squared_error(y_test,y_pred)"
   ]
  },
  {
   "cell_type": "code",
   "execution_count": 85,
   "id": "d58a28c3",
   "metadata": {},
   "outputs": [
    {
     "data": {
      "text/html": [
       "<div>\n",
       "<style scoped>\n",
       "    .dataframe tbody tr th:only-of-type {\n",
       "        vertical-align: middle;\n",
       "    }\n",
       "\n",
       "    .dataframe tbody tr th {\n",
       "        vertical-align: top;\n",
       "    }\n",
       "\n",
       "    .dataframe thead th {\n",
       "        text-align: right;\n",
       "    }\n",
       "</style>\n",
       "<table border=\"1\" class=\"dataframe\">\n",
       "  <thead>\n",
       "    <tr style=\"text-align: right;\">\n",
       "      <th></th>\n",
       "      <th>Actual</th>\n",
       "      <th>Prediction</th>\n",
       "    </tr>\n",
       "  </thead>\n",
       "  <tbody>\n",
       "    <tr>\n",
       "      <th>0</th>\n",
       "      <td>15006.57945</td>\n",
       "      <td>6274.585232</td>\n",
       "    </tr>\n",
       "    <tr>\n",
       "      <th>1</th>\n",
       "      <td>3277.16100</td>\n",
       "      <td>6480.391215</td>\n",
       "    </tr>\n",
       "    <tr>\n",
       "      <th>2</th>\n",
       "      <td>1632.03625</td>\n",
       "      <td>4628.137371</td>\n",
       "    </tr>\n",
       "    <tr>\n",
       "      <th>3</th>\n",
       "      <td>17468.98390</td>\n",
       "      <td>4628.137371</td>\n",
       "    </tr>\n",
       "    <tr>\n",
       "      <th>4</th>\n",
       "      <td>8605.36150</td>\n",
       "      <td>9979.092919</td>\n",
       "    </tr>\n",
       "    <tr>\n",
       "      <th>...</th>\n",
       "      <td>...</td>\n",
       "      <td>...</td>\n",
       "    </tr>\n",
       "    <tr>\n",
       "      <th>216</th>\n",
       "      <td>2304.00220</td>\n",
       "      <td>4422.331388</td>\n",
       "    </tr>\n",
       "    <tr>\n",
       "      <th>217</th>\n",
       "      <td>9411.00500</td>\n",
       "      <td>10184.898902</td>\n",
       "    </tr>\n",
       "    <tr>\n",
       "      <th>218</th>\n",
       "      <td>13725.47184</td>\n",
       "      <td>9155.868989</td>\n",
       "    </tr>\n",
       "    <tr>\n",
       "      <th>219</th>\n",
       "      <td>14254.60820</td>\n",
       "      <td>13683.600607</td>\n",
       "    </tr>\n",
       "    <tr>\n",
       "      <th>220</th>\n",
       "      <td>13747.87235</td>\n",
       "      <td>4422.331388</td>\n",
       "    </tr>\n",
       "  </tbody>\n",
       "</table>\n",
       "<p>221 rows × 2 columns</p>\n",
       "</div>"
      ],
      "text/plain": [
       "          Actual    Prediction\n",
       "0    15006.57945   6274.585232\n",
       "1     3277.16100   6480.391215\n",
       "2     1632.03625   4628.137371\n",
       "3    17468.98390   4628.137371\n",
       "4     8605.36150   9979.092919\n",
       "..           ...           ...\n",
       "216   2304.00220   4422.331388\n",
       "217   9411.00500  10184.898902\n",
       "218  13725.47184   9155.868989\n",
       "219  14254.60820  13683.600607\n",
       "220  13747.87235   4422.331388\n",
       "\n",
       "[221 rows x 2 columns]"
      ]
     },
     "execution_count": 85,
     "metadata": {},
     "output_type": "execute_result"
    }
   ],
   "source": [
    "out = pd.DataFrame(zip(y_test,y_pred),columns=['Actual','Prediction'])\n",
    "out"
   ]
  },
  {
   "cell_type": "code",
   "execution_count": 87,
   "id": "06e3855e",
   "metadata": {},
   "outputs": [
    {
     "data": {
      "image/png": "[encoded data removed]",
      "text/plain": [
       "<Figure size 640x480 with 1 Axes>"
      ]
     },
     "metadata": {},
     "output_type": "display_data"
    }
   ],
   "source": [
    "sns.regplot(data=out,x = 'Actual',y = 'Prediction',color='blue')\n",
    "plt.show()"
   ]
  },
  {
   "cell_type": "code",
   "execution_count": null,
   "id": "446b4c11",
   "metadata": {},
   "outputs": [],
   "source": []
  }
 ],
 "metadata": {
  "kernelspec": {
   "display_name": "Python 3 (ipykernel)",
   "language": "python",
   "name": "python3"
  },
  "language_info": {
   "codemirror_mode": {
    "name": "ipython",
    "version": 3
   },
   "file_extension": ".py",
   "mimetype": "text/x-python",
   "name": "python",
   "nbconvert_exporter": "python",
   "pygments_lexer": "ipython3",
   "version": "3.9.13"
  }
 },
 "nbformat": 4,
 "nbformat_minor": 5
}
